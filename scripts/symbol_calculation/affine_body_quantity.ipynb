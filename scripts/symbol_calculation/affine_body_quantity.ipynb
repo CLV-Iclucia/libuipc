{
 "cells": [
  {
   "cell_type": "code",
   "execution_count": 55,
   "metadata": {},
   "outputs": [],
   "source": [
    "from sympy import symbols, integrate, expand, latex"
   ]
  },
  {
   "cell_type": "markdown",
   "metadata": {},
   "source": [
    "To integrate on the volume of a discrete Affine Body, we can:\n",
    "\n",
    "1. using volume integral formula directly\n",
    "2. using divergence theorem to convert the volume integral to a surface integral\n",
    "\n",
    "We will do both way in this notebook.\n",
    "\n",
    "# Volume Integral\n",
    "\n",
    "To integrate on the volume, we need user to provide a tetmesh of the body. With the tetmesh, we can directly calculate the volume of every tetrahedron and sum them up. Say we have $N$ tetrahedrons, the volume of the body is:\n",
    "\n",
    "$$\n",
    "V = \\sum_i^N V_i = \\sum_i^N \\int_{\\Omega_i} dV\n",
    "$$\n",
    "\n",
    "We do integration on each tetrahedron.\n",
    "\n",
    "For a tetrahedron with vertices $p_0, p_1, p_2, p_3$, we define:\n",
    "\n",
    "$$\n",
    "e_1 = p_1 - p_0, e_2 = p_2 - p_0, e_3 = p_3 - p_0\n",
    "$$\n",
    "\n",
    "the parameterization of any point $p$ in the tetrahedron is:\n",
    "\n",
    "$$\n",
    "p = p_0 + e_1 u + e_2 v + e_3 w, u,v,w \\in [0,1], u+v+w \\le 1 \n",
    "$$\n",
    "\n",
    "The volume of the tetrahedron is:\n",
    "\n",
    "$$\n",
    "V_i = \\int_{\\Omega_i} dV = \\int_{\\Omega_i} det(e_1, e_2, e_3) du dv dw = det(e_1, e_2, e_3) \\int_{\\Omega_i} du dv dw\n",
    "$$\n",
    "\n",
    "So how to calculate the integral $\\int_{\\Omega_i} du dv dw$?"
   ]
  },
  {
   "cell_type": "code",
   "execution_count": 56,
   "metadata": {},
   "outputs": [
    {
     "data": {
      "text/latex": [
       "$\\displaystyle \\frac{1}{6}$"
      ],
      "text/plain": [
       "1/6"
      ]
     },
     "execution_count": 56,
     "metadata": {},
     "output_type": "execute_result"
    }
   ],
   "source": [
    "u,v,w = symbols('u v w')\n",
    "\n",
    "fvw = integrate(1, (u, 0, 1-v-w))\n",
    "fw = integrate(fvw, (v, 0, 1-w))\n",
    "f = integrate(fw, (w, 0, 1))\n",
    "\n",
    "f"
   ]
  },
  {
   "cell_type": "markdown",
   "metadata": {},
   "source": [
    "$\\frac{1}{6}$.\n",
    "\n",
    "So the volume of the tetrahedron is:\n",
    "\n",
    "$$\n",
    "V_i = \\frac{1}{6} det(e_1, e_2, e_3) = \\frac{1}{6} e_1 \\cdot (e_2 \\times e_3)\n",
    "$$\n",
    "\n",
    "Is just how we calculate the tetrahedron volume geometrically!\n",
    "\n",
    "So if we have a uniform mass density $\\rho$, the mass of the tetrahedron is:\n",
    "\n",
    "$$\n",
    "m_i = \\rho V_i = \\frac{\\rho}{6} e_1 \\cdot (e_2 \\times e_3)\n",
    "$$\n",
    "\n",
    "When we calculate the mass matrix of affine body, we not only need the `mass` but also other terms.\n",
    "\n",
    "$$\n",
    "(mx^\\alpha) = \\int_{\\Omega} \\rho x^\\alpha dV = \\sum_i^N \\int_{\\Omega_i} \\rho x^\\alpha dV, \\alpha = 1,2,3\n",
    "$$\n",
    "\n",
    "and\n",
    "\n",
    "$$\n",
    "(mx^\\alpha x^\\beta) = \\int_{\\Omega} \\rho x^\\alpha x^\\beta dV = \\sum_i^N \\int_{\\Omega_i} \\rho x^\\alpha x^\\beta dV, \\alpha, \\beta = 1,2,3\n",
    "$$\n",
    "\n",
    "\n",
    "Now we still using the uniform mass density. $x^\\alpha$ is the $\\alpha$-th component of the position vector.\n",
    "\n",
    "So we can integrate on each tetrahedron, consider the parameterization of the tetrahedron, we have:\n",
    "\n",
    "$$\n",
    "\\begin{align}\n",
    "\\rho \\int_{\\Omega_i} x^\\alpha dV \\\\\n",
    "= \\rho \\int_{\\Omega_i} (p_0^\\alpha + e_1^\\alpha u + e_2^\\alpha v + e_3^\\alpha w) det(e_1,e_2,e_3) du dv dw \\\\\n",
    "= \\rho det(e_1,e_2,e_3) \\int_{\\Omega_i} (p_0^\\alpha + e_1^\\alpha u + e_2^\\alpha v + e_3^\\alpha w) du dv dw \\\\\n",
    "= \\rho det(e_1,e_2,e_3) (p_0^\\alpha \\int_{\\Omega_i} du dv dw + e_1^\\alpha \\int_{\\Omega_i} u du dv dw + e_2^\\alpha \\int_{\\Omega_i} v du dv dw + e_3^\\alpha \\int_{\\Omega_i} w du dv dw)\n",
    "\\end{align}\n",
    "$$\n",
    "\n",
    "Something we don't know is the integral terms, we can directly calculate them using sympy."
   ]
  },
  {
   "cell_type": "code",
   "execution_count": 57,
   "metadata": {},
   "outputs": [
    {
     "data": {
      "text/plain": [
       "(1/6, 1/24, 1/24, 1/24)"
      ]
     },
     "execution_count": 57,
     "metadata": {},
     "output_type": "execute_result"
    }
   ],
   "source": [
    "def integrate_V(f):\n",
    "    fvw = integrate(f, (u, 0, 1-v-w))\n",
    "    fw = integrate(fvw, (v, 0, 1-w))\n",
    "    f = integrate(fw, (w, 0, 1))\n",
    "    return f\n",
    "\n",
    "I_dudvdw = integrate_V(1)\n",
    "I_u_dudvdw = integrate_V(u)\n",
    "I_v_dudvdw = integrate_V(v)\n",
    "I_w_dudvdw = integrate_V(w)\n",
    "\n",
    "I_dudvdw, I_u_dudvdw, I_v_dudvdw, I_w_dudvdw"
   ]
  },
  {
   "cell_type": "markdown",
   "metadata": {},
   "source": [
    "So we get:\n",
    "\n",
    "$$\n",
    "\\begin{align}\n",
    "\\int_{\\Omega_i} du dv dw = \\frac{1}{6}\\\\\n",
    "\\int_{\\Omega_i} u du dv dw = \\frac{1}{24}\\\\\n",
    "\\int_{\\Omega_i} v du dv dw = \\frac{1}{24}\\\\\n",
    "\\int_{\\Omega_i} w du dv dw = \\frac{1}{24}\n",
    "\\end{align}\n",
    "$$\n",
    "\n",
    "The rest thing is just apply these coefficients to the corresponding terms.\n",
    "\n",
    "And let's go to the $(mx^\\alpha x^\\beta)$ term.\n",
    "\n",
    "We imagine that we need to calculate the second order integral over $u,v,w$, so just like the first order integral, we can calculate the coefficients of the terms."
   ]
  },
  {
   "cell_type": "markdown",
   "metadata": {},
   "source": [
    "It time to expand the $\\int_{\\Omega_i} \\rho x^\\alpha x^\\beta dV$ term.\n",
    "\n",
    "$$\n",
    "\\begin{align}\n",
    "\\int_{\\Omega_i} \\rho x^\\alpha x^\\beta dV\n",
    "= \\rho det(e_1,e_2,e_3) \\int_{\\Omega_i}(p_0^\\alpha + e_1^\\alpha u + e_2^\\alpha v + e_3^\\alpha w) (p_0^\\beta + e_1^\\beta u + e_2^\\beta v + e_3^\\beta w) du dv dw\n",
    "\\end{align}\n",
    "$$"
   ]
  },
  {
   "cell_type": "code",
   "execution_count": 58,
   "metadata": {},
   "outputs": [
    {
     "data": {
      "text/latex": [
       "$\\displaystyle e^{\\alpha}_{1} e^{\\beta}_{1} u^{2} + e^{\\alpha}_{1} e^{\\beta}_{2} u v + e^{\\alpha}_{1} e^{\\beta}_{3} u w + e^{\\alpha}_{1} p^{\\beta}_{0} u + e^{\\beta}_{1} e^{\\alpha}_{2} u v + e^{\\beta}_{1} e^{\\alpha}_{3} u w + e^{\\beta}_{1} p^{\\alpha}_{0} u + e^{\\alpha}_{2} e^{\\beta}_{2} v^{2} + e^{\\alpha}_{2} e^{\\beta}_{3} v w + e^{\\alpha}_{2} p^{\\beta}_{0} v + e^{\\beta}_{2} e^{\\alpha}_{3} v w + e^{\\beta}_{2} p^{\\alpha}_{0} v + e^{\\alpha}_{3} e^{\\beta}_{3} w^{2} + e^{\\alpha}_{3} p^{\\beta}_{0} w + e^{\\beta}_{3} p^{\\alpha}_{0} w + p^{\\alpha}_{0} p^{\\beta}_{0}$"
      ],
      "text/plain": [
       "e_1^alpha*e_1^beta*u**2 + e_1^alpha*e_2^beta*u*v + e_1^alpha*e_3^beta*u*w + e_1^alpha*p_0^beta*u + e_1^beta*e_2^alpha*u*v + e_1^beta*e_3^alpha*u*w + e_1^beta*p_0^alpha*u + e_2^alpha*e_2^beta*v**2 + e_2^alpha*e_3^beta*v*w + e_2^alpha*p_0^beta*v + e_2^beta*e_3^alpha*v*w + e_2^beta*p_0^alpha*v + e_3^alpha*e_3^beta*w**2 + e_3^alpha*p_0^beta*w + e_3^beta*p_0^alpha*w + p_0^alpha*p_0^beta"
      ]
     },
     "execution_count": 58,
     "metadata": {},
     "output_type": "execute_result"
    }
   ],
   "source": [
    "p_0a, p_0b = symbols('p_0^alpha p_0^beta')\n",
    "e_1a, e_1b = symbols('e_1^alpha e_1^beta')\n",
    "e_2a, e_2b = symbols('e_2^alpha e_2^beta')\n",
    "e_3a, e_3b = symbols('e_3^alpha e_3^beta')\n",
    "\n",
    "P = expand((p_0a + e_1a * u + e_2a * v + e_3a * w) * (p_0b + e_1b * u + e_2b * v + e_3b * w))\n",
    "\n",
    "P"
   ]
  },
  {
   "cell_type": "markdown",
   "metadata": {},
   "source": [
    "$$\n",
    "\\begin{align}\n",
    "\n",
    "e^{a}_{1} e^{b}_{1} \\int_{\\Omega_i} u^{2} dudvdw \\\\\n",
    "+ e^{a}_{2} e^{b}_{2} \\int_{\\Omega_i} v^{2} dudvdw\\\\\n",
    "+ e^{a}_{3} e^{b}_{3}\\int_{\\Omega_i} w^{2} dudvdw\\\\\n",
    "\n",
    "+ (e^{a}_{1} e^{b}_{2} + e^{b}_{1} e^{a}_{2}) \\int_{\\Omega_i} u v dudvdw\\\\\n",
    "+ (e^{a}_{1} e^{b}_{3} + e^{b}_{1} e^{a}_{3}) \\int_{\\Omega_i} u w dudvdw\\\\\n",
    "+ (e^{a}_{2} e^{b}_{3} + e^{b}_{2} e^{a}_{3}) \\int_{\\Omega_i} v w dudvdw\\\\\n",
    "\n",
    "+ (e^{a}_{1} p^{b}_{0} + e^{b}_{1} p^{a}_{0}) \\int_{\\Omega_i} u dudvdw\\\\\n",
    "+ (e^{a}_{2} p^{b}_{0} + e^{b}_{2} p^{a}_{0}) \\int_{\\Omega_i} v dudvdw\\\\\n",
    "+ (e^{a}_{3} p^{b}_{0} + e^{b}_{3} p^{a}_{0}) \\int_{\\Omega_i} w dudvdw\\\\\n",
    "\n",
    "+ p^{a}_{0} p^{b}_{0} \\int_{\\Omega_i} dudvdw\n",
    "\n",
    "\\notag\n",
    "\\end{align}\n",
    "$$"
   ]
  },
  {
   "cell_type": "code",
   "execution_count": 59,
   "metadata": {},
   "outputs": [
    {
     "data": {
      "text/plain": [
       "(1/60, 1/60, 1/60, 1/120, 1/120, 1/120)"
      ]
     },
     "execution_count": 59,
     "metadata": {},
     "output_type": "execute_result"
    }
   ],
   "source": [
    "I_uu_dudvdw = integrate_V(u*u)\n",
    "I_vv_dudvdw = integrate_V(v*v)\n",
    "I_ww_dudvdw = integrate_V(w*w)\n",
    "\n",
    "I_uv_dudvdw = integrate_V(u*v)\n",
    "I_uw_dudvdw = integrate_V(u*w)\n",
    "I_vw_dudvdw = integrate_V(v*w)\n",
    "\n",
    "I_uu_dudvdw, I_vv_dudvdw, I_ww_dudvdw, I_uv_dudvdw, I_uw_dudvdw, I_vw_dudvdw"
   ]
  },
  {
   "cell_type": "markdown",
   "metadata": {},
   "source": [
    "So we have:\n",
    "\n",
    "$$\n",
    "\\begin{align}\n",
    "\\int_{\\Omega_i} u^2 du dv dw = \\frac{1}{60}\\\\\n",
    "\\int_{\\Omega_i} v^2 du dv dw = \\frac{1}{60}\\\\\n",
    "\\int_{\\Omega_i} w^2 du dv dw = \\frac{1}{60}\\\\\n",
    "\n",
    "\\int_{\\Omega_i} uv du dv dw = \\frac{1}{120}\\\\\n",
    "\\int_{\\Omega_i} uw du dv dw = \\frac{1}{120}\\\\\n",
    "\\int_{\\Omega_i} vw du dv dw = \\frac{1}{120}\n",
    "\\end{align}\n",
    "$$"
   ]
  }
 ],
 "metadata": {
  "kernelspec": {
   "display_name": "Python 3",
   "language": "python",
   "name": "python3"
  },
  "language_info": {
   "codemirror_mode": {
    "name": "ipython",
    "version": 3
   },
   "file_extension": ".py",
   "mimetype": "text/x-python",
   "name": "python",
   "nbconvert_exporter": "python",
   "pygments_lexer": "ipython3",
   "version": "3.11.5"
  },
  "orig_nbformat": 4
 },
 "nbformat": 4,
 "nbformat_minor": 2
}
