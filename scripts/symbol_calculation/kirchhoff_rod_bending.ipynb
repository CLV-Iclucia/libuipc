{
 "cells": [
  {
   "cell_type": "code",
   "execution_count": null,
   "metadata": {},
   "outputs": [],
   "source": [
    "import sys\n",
    "import os\n",
    "sys.path.append('../')\n",
    "import pathlib as pl\n",
    "from SymEigen import *\n",
    "import math\n",
    "\n",
    "from sympy import symbols, Matrix, log, sqrt\n",
    "from project_dir import backend_source_dir\n",
    "\n",
    "Gen = EigenFunctionGenerator()\n",
    "Gen.MacroBeforeFunction(\"__host__ __device__\")\n",
    "Gen.DisableLatexComment()\n",
    "\n",
    "k = Eigen.Scalar('k')\n",
    "L0 = Eigen.Scalar(\"L0\")\n",
    "radius = Eigen.Scalar(\"r\")\n",
    "_pi = Eigen.Scalar(\"pi\")\n",
    "\n",
    "X = Eigen.Vector(\"X\", 9)\n",
    "X0 = X[0:3,0]\n",
    "X1 = X[3:6,0]\n",
    "X2 = X[6:9,0]\n",
    "\n",
    "e0 = X1 - X0\n",
    "e1 = X2 - X1"
   ]
  },
  {
   "cell_type": "code",
   "execution_count": null,
   "metadata": {},
   "outputs": [],
   "source": [
    "kappa = e0.cross(e1) * 2 / (sqrt(e0.dot(e0) * e1.dot(e1)) + e0.dot(e1))\n",
    "kappa"
   ]
  },
  {
   "cell_type": "code",
   "execution_count": null,
   "metadata": {},
   "outputs": [],
   "source": [
    "alpha = k * radius**4 * _pi / 4\n",
    "alpha"
   ]
  },
  {
   "cell_type": "code",
   "execution_count": null,
   "metadata": {},
   "outputs": [],
   "source": [
    "E = alpha * kappa.dot(kappa) / L0\n",
    "E"
   ]
  },
  {
   "cell_type": "code",
   "execution_count": null,
   "metadata": {},
   "outputs": [],
   "source": [
    "dEdX = VecDiff(E, X)\n",
    "ddEddX = VecDiff(dEdX, X)"
   ]
  },
  {
   "cell_type": "code",
   "execution_count": null,
   "metadata": {},
   "outputs": [],
   "source": [
    "Cl = Gen.Closure(k, X, L0, radius, _pi)"
   ]
  },
  {
   "cell_type": "code",
   "execution_count": null,
   "metadata": {},
   "outputs": [],
   "source": [
    "s = f'''\n",
    "{Cl(\"E\",E)}\n",
    "{Cl(\"dEdX\",dEdX)}\n",
    "{Cl(\"ddEddX\",ddEddX)}\n",
    "'''\n",
    "print(s)\n",
    "\n",
    "f = open( backend_source_dir('cuda') / 'finite_element/constitutions/sym/kirchhoff_rod_bending.inl', 'w')\n",
    "f.write(s)\n",
    "f.close()"
   ]
  }
 ],
 "metadata": {
  "kernelspec": {
   "display_name": "Python 3",
   "language": "python",
   "name": "python3"
  },
  "language_info": {
   "codemirror_mode": {
    "name": "ipython",
    "version": 3
   },
   "file_extension": ".py",
   "mimetype": "text/x-python",
   "name": "python",
   "nbconvert_exporter": "python",
   "pygments_lexer": "ipython3",
   "version": "3.11.5"
  },
  "orig_nbformat": 4
 },
 "nbformat": 4,
 "nbformat_minor": 2
}
