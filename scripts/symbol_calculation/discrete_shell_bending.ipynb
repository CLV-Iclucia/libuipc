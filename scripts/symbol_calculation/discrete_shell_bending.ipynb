{
 "cells": [
  {
   "cell_type": "code",
   "execution_count": null,
   "metadata": {},
   "outputs": [],
   "source": [
    "import sys\n",
    "import os\n",
    "sys.path.append('../')\n",
    "import pathlib as pl\n",
    "from SymEigen import *\n",
    "import math\n",
    "\n",
    "from sympy import symbols, Matrix, log, sqrt\n",
    "from project_dir import backend_source_dir\n",
    "\n",
    "Gen = EigenFunctionGenerator()\n",
    "Gen.MacroBeforeFunction('__host__ __device__')\n",
    "Gen.DisableLatexComment()"
   ]
  },
  {
   "cell_type": "code",
   "execution_count": null,
   "metadata": {},
   "outputs": [],
   "source": [
    "\n",
    "\n",
    "k = Eigen.Scalar('kappa')\n",
    "L0 = Eigen.Scalar('L0')\n",
    "h_bar = Eigen.Scalar('h_bar')\n",
    "theta = Eigen.Scalar('theta')\n",
    "theta_bar = Eigen.Scalar('theta_bar')\n",
    "\n",
    "Cl = Gen.Closure(k, theta, theta_bar, L0, h_bar)"
   ]
  },
  {
   "cell_type": "code",
   "execution_count": null,
   "metadata": {},
   "outputs": [],
   "source": [
    "E = k * (theta - theta_bar)**2 * L0 / h_bar\n",
    "E"
   ]
  },
  {
   "cell_type": "code",
   "execution_count": null,
   "metadata": {},
   "outputs": [],
   "source": [
    "dEdtheta = VecDiff(E, theta)"
   ]
  },
  {
   "cell_type": "code",
   "execution_count": null,
   "metadata": {},
   "outputs": [],
   "source": [
    "ddEddtheta = VecDiff(dEdtheta, theta)"
   ]
  },
  {
   "cell_type": "code",
   "execution_count": null,
   "metadata": {},
   "outputs": [],
   "source": [
    "s = f'''\n",
    "{Cl('E',E)}\n",
    "{Cl('dEdtheta',dEdtheta)}\n",
    "{Cl('ddEddtheta',ddEddtheta)}\n",
    "'''\n",
    "print(s)\n",
    "\n",
    "f = open( backend_source_dir('cuda') / 'finite_element/constitutions/sym/discrete_shell_bending.inl', 'w')\n",
    "f.write(s)\n",
    "f.close()"
   ]
  }
 ],
 "metadata": {
  "kernelspec": {
   "display_name": "Python 3",
   "language": "python",
   "name": "python3"
  },
  "language_info": {
   "codemirror_mode": {
    "name": "ipython",
    "version": 3
   },
   "file_extension": ".py",
   "mimetype": "text/x-python",
   "name": "python",
   "nbconvert_exporter": "python",
   "pygments_lexer": "ipython3",
   "version": "3.11.5"
  },
  "orig_nbformat": 4
 },
 "nbformat": 4,
 "nbformat_minor": 2
}
