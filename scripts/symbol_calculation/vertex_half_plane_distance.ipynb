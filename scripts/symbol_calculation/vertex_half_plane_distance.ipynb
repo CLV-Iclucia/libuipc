{
 "cells": [
  {
   "cell_type": "code",
   "execution_count": null,
   "metadata": {},
   "outputs": [],
   "source": [
    "import sys\n",
    "import os\n",
    "sys.path.append('../')\n",
    "import pathlib as pl\n",
    "from SymEigen import *\n",
    "from sympy import symbols\n",
    "from project_dir import project_dir\n",
    "Gen = EigenFunctionGenerator()\n",
    "Gen.MacroBeforeFunction(\"__host__ __device__\")\n"
   ]
  },
  {
   "cell_type": "code",
   "execution_count": null,
   "metadata": {},
   "outputs": [],
   "source": [
    "x = Eigen.Vector(\"x\", 3)\n",
    "P = Eigen.Vector(\"P\", 3)\n",
    "N = Eigen.Vector(\"N\", 3)\n",
    "\n",
    "Cl0 = Gen.Closure(x, P, N)\n",
    "\n",
    "D = ((x-P).dot(N))**2\n",
    "D"
   ]
  },
  {
   "cell_type": "code",
   "execution_count": null,
   "metadata": {},
   "outputs": [],
   "source": [
    "dDdx = VecDiff(D, x)\n",
    "dDdx"
   ]
  },
  {
   "cell_type": "code",
   "execution_count": null,
   "metadata": {},
   "outputs": [],
   "source": [
    "ddDddx = VecDiff(dDdx, x)\n",
    "ddDddx"
   ]
  },
  {
   "cell_type": "code",
   "execution_count": null,
   "metadata": {},
   "outputs": [],
   "source": [
    "x0 = Eigen.Vector(\"x_prev\", 3)\n",
    "e1 = Eigen.Vector(\"e1\", 3)\n",
    "e2 = Eigen.Vector(\"e2\", 3)\n",
    "\n",
    "dx = x - x0\n",
    "dx"
   ]
  },
  {
   "cell_type": "code",
   "execution_count": null,
   "metadata": {},
   "outputs": [],
   "source": [
    "u = dx.dot(e1)\n",
    "v = dx.dot(e2)\n",
    "\n",
    "TR = Matrix([[u], [v]])\n",
    "TR"
   ]
  },
  {
   "cell_type": "code",
   "execution_count": null,
   "metadata": {},
   "outputs": [],
   "source": [
    "dTRdx = VecDiff(TR, x)\n",
    "dTRdx"
   ]
  },
  {
   "cell_type": "code",
   "execution_count": null,
   "metadata": {},
   "outputs": [],
   "source": [
    "Cl1 = Gen.Closure(x, x0, e1, e2)"
   ]
  },
  {
   "cell_type": "code",
   "execution_count": null,
   "metadata": {},
   "outputs": [],
   "source": [
    "s = f'''\n",
    "// > Squared Version\n",
    "// > D := d*d \n",
    "// > DHat := dHat*dHat\n",
    "\n",
    "{Cl0(\"HalfPlaneD\",D)}\n",
    "{Cl0(\"dHalfPlaneDdx\",dDdx)}\n",
    "{Cl0(\"ddHalfPlaneDddx\",ddDddx)}\n",
    "{Cl1(\"TR\",TR)}\n",
    "{Cl1(\"dTRdx\",dTRdx)}\n",
    "'''\n",
    "print(s)\n",
    "\n",
    "f = open( backend_source_dir('cuda') / 'contact_system/contact_models/sym/vertex_half_plane_distance.inl', 'w')\n",
    "f.write(s)\n",
    "f.close()"
   ]
  }
 ],
 "metadata": {
  "kernelspec": {
   "display_name": "Python 3",
   "language": "python",
   "name": "python3"
  },
  "language_info": {
   "codemirror_mode": {
    "name": "ipython",
    "version": 3
   },
   "file_extension": ".py",
   "mimetype": "text/x-python",
   "name": "python",
   "nbconvert_exporter": "python",
   "pygments_lexer": "ipython3",
   "version": "3.11.5"
  },
  "orig_nbformat": 4
 },
 "nbformat": 4,
 "nbformat_minor": 2
}
