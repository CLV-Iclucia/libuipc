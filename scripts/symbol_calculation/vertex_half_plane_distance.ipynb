{
 "cells": [
  {
   "cell_type": "code",
   "execution_count": 54,
   "metadata": {},
   "outputs": [],
   "source": [
    "import sys\n",
    "import os\n",
    "sys.path.append('../')\n",
    "import pathlib as pl\n",
    "from SymEigen import *\n",
    "from sympy import symbols\n",
    "from project_dir import project_dir\n",
    "Gen = EigenFunctionGenerator()\n",
    "Gen.MacroBeforeFunction(\"__host__ __device__\")\n"
   ]
  },
  {
   "cell_type": "code",
   "execution_count": 55,
   "metadata": {},
   "outputs": [
    {
     "data": {
      "text/latex": [
       "$\\displaystyle \\left(N(0) \\left(- P(0) + x(0)\\right) + N(1) \\left(- P(1) + x(1)\\right) + N(2) \\left(- P(2) + x(2)\\right)\\right)^{2}$"
      ],
      "text/plain": [
       "(N(0)*(-P(0) + x(0)) + N(1)*(-P(1) + x(1)) + N(2)*(-P(2) + x(2)))**2"
      ]
     },
     "execution_count": 55,
     "metadata": {},
     "output_type": "execute_result"
    }
   ],
   "source": [
    "x = Eigen.Vector(\"x\", 3)\n",
    "P = Eigen.Vector(\"P\", 3)\n",
    "N = Eigen.Vector(\"N\", 3)\n",
    "\n",
    "Cl0 = Gen.Closure(x, P, N)\n",
    "\n",
    "D = ((x-P).dot(N))**2\n",
    "D"
   ]
  },
  {
   "cell_type": "code",
   "execution_count": 56,
   "metadata": {},
   "outputs": [
    {
     "data": {
      "text/latex": [
       "$\\displaystyle \\left[\\begin{matrix}2 N(0) \\left(N(0) \\left(- P(0) + x(0)\\right) + N(1) \\left(- P(1) + x(1)\\right) + N(2) \\left(- P(2) + x(2)\\right)\\right)\\\\2 N(1) \\left(N(0) \\left(- P(0) + x(0)\\right) + N(1) \\left(- P(1) + x(1)\\right) + N(2) \\left(- P(2) + x(2)\\right)\\right)\\\\2 N(2) \\left(N(0) \\left(- P(0) + x(0)\\right) + N(1) \\left(- P(1) + x(1)\\right) + N(2) \\left(- P(2) + x(2)\\right)\\right)\\end{matrix}\\right]$"
      ],
      "text/plain": [
       "Matrix([\n",
       "[2*N(0)*(N(0)*(-P(0) + x(0)) + N(1)*(-P(1) + x(1)) + N(2)*(-P(2) + x(2)))],\n",
       "[2*N(1)*(N(0)*(-P(0) + x(0)) + N(1)*(-P(1) + x(1)) + N(2)*(-P(2) + x(2)))],\n",
       "[2*N(2)*(N(0)*(-P(0) + x(0)) + N(1)*(-P(1) + x(1)) + N(2)*(-P(2) + x(2)))]])"
      ]
     },
     "execution_count": 56,
     "metadata": {},
     "output_type": "execute_result"
    }
   ],
   "source": [
    "dDdx = VecDiff(D, x)\n",
    "dDdx"
   ]
  },
  {
   "cell_type": "code",
   "execution_count": 57,
   "metadata": {},
   "outputs": [
    {
     "data": {
      "text/latex": [
       "$\\displaystyle \\left[\\begin{matrix}2 N(0)^{2} & 2 N(0) N(1) & 2 N(0) N(2)\\\\2 N(0) N(1) & 2 N(1)^{2} & 2 N(1) N(2)\\\\2 N(0) N(2) & 2 N(1) N(2) & 2 N(2)^{2}\\end{matrix}\\right]$"
      ],
      "text/plain": [
       "Matrix([\n",
       "[  2*N(0)**2, 2*N(0)*N(1), 2*N(0)*N(2)],\n",
       "[2*N(0)*N(1),   2*N(1)**2, 2*N(1)*N(2)],\n",
       "[2*N(0)*N(2), 2*N(1)*N(2),   2*N(2)**2]])"
      ]
     },
     "execution_count": 57,
     "metadata": {},
     "output_type": "execute_result"
    }
   ],
   "source": [
    "ddDddx = VecDiff(dDdx, x)\n",
    "ddDddx"
   ]
  },
  {
   "cell_type": "code",
   "execution_count": 58,
   "metadata": {},
   "outputs": [
    {
     "data": {
      "text/latex": [
       "$\\displaystyle \\left[\\begin{matrix}x(0) - x0(0)\\\\x(1) - x0(1)\\\\x(2) - x0(2)\\end{matrix}\\right]$"
      ],
      "text/plain": [
       "Matrix([\n",
       "[x(0) - x0(0)],\n",
       "[x(1) - x0(1)],\n",
       "[x(2) - x0(2)]])"
      ]
     },
     "execution_count": 58,
     "metadata": {},
     "output_type": "execute_result"
    }
   ],
   "source": [
    "x0 = Eigen.Vector(\"x_prev\", 3)\n",
    "e1 = Eigen.Vector(\"e1\", 3)\n",
    "e2 = Eigen.Vector(\"e2\", 3)\n",
    "\n",
    "dx = x - x0\n",
    "dx"
   ]
  },
  {
   "cell_type": "code",
   "execution_count": 59,
   "metadata": {},
   "outputs": [
    {
     "data": {
      "text/latex": [
       "$\\displaystyle \\left[\\begin{matrix}e1(0) \\left(x(0) - x0(0)\\right) + e1(1) \\left(x(1) - x0(1)\\right) + e1(2) \\left(x(2) - x0(2)\\right)\\\\e2(0) \\left(x(0) - x0(0)\\right) + e2(1) \\left(x(1) - x0(1)\\right) + e2(2) \\left(x(2) - x0(2)\\right)\\end{matrix}\\right]$"
      ],
      "text/plain": [
       "Matrix([\n",
       "[e1(0)*(x(0) - x0(0)) + e1(1)*(x(1) - x0(1)) + e1(2)*(x(2) - x0(2))],\n",
       "[e2(0)*(x(0) - x0(0)) + e2(1)*(x(1) - x0(1)) + e2(2)*(x(2) - x0(2))]])"
      ]
     },
     "execution_count": 59,
     "metadata": {},
     "output_type": "execute_result"
    }
   ],
   "source": [
    "u = dx.dot(e1)\n",
    "v = dx.dot(e2)\n",
    "\n",
    "TR = Matrix([[u], [v]])\n",
    "TR"
   ]
  },
  {
   "cell_type": "code",
   "execution_count": 60,
   "metadata": {},
   "outputs": [
    {
     "data": {
      "text/latex": [
       "$\\displaystyle \\left[\\begin{matrix}e1(0) & e1(1) & e1(2)\\\\e2(0) & e2(1) & e2(2)\\end{matrix}\\right]$"
      ],
      "text/plain": [
       "Matrix([\n",
       "[e1(0), e1(1), e1(2)],\n",
       "[e2(0), e2(1), e2(2)]])"
      ]
     },
     "execution_count": 60,
     "metadata": {},
     "output_type": "execute_result"
    }
   ],
   "source": [
    "dTRdx = VecDiff(TR, x)\n",
    "dTRdx"
   ]
  },
  {
   "cell_type": "code",
   "execution_count": 61,
   "metadata": {},
   "outputs": [],
   "source": [
    "Cl1 = Gen.Closure(x, x0, e1, e2)"
   ]
  },
  {
   "cell_type": "code",
   "execution_count": 62,
   "metadata": {},
   "outputs": [
    {
     "name": "stdout",
     "output_type": "stream",
     "text": [
      "\n",
      "// > Squared Version\n",
      "// > D := d*d \n",
      "// > DHat := dHat*dHat\n",
      "\n",
      "template <typename T>\n",
      "__host__ __device__ void HalfPlaneD(T& R, const Eigen::Vector<T,3>& x, const Eigen::Vector<T,3>& P, const Eigen::Vector<T,3>& N)\n",
      "{\n",
      "/*****************************************************************************************************************************\n",
      "Function generated by SymEigen.py \n",
      "Author: MuGdxy\n",
      "GitHub: https://github.com/MuGdxy/SymEigen\n",
      "E-Mail: lxy819469559@gmail.com\n",
      "******************************************************************************************************************************\n",
      "LaTeX expression:\n",
      "//tex:$$R = \\left(N(0) \\left(- P(0) + x(0)\\right) + N(1) \\left(- P(1) + x(1)\\right) + N(2) \\left(- P(2) + x(2)\\right)\\right)^{2}$$\n",
      "\n",
      "Symbol Name Mapping:\n",
      "x:\n",
      "    -> {}\n",
      "    -> Matrix([[x(0)], [x(1)], [x(2)]])\n",
      "P:\n",
      "    -> {}\n",
      "    -> Matrix([[P(0)], [P(1)], [P(2)]])\n",
      "N:\n",
      "    -> {}\n",
      "    -> Matrix([[N(0)], [N(1)], [N(2)]])\n",
      "*****************************************************************************************************************************/\n",
      "/* Sub Exprs */\n",
      "/* Simplified Expr */\n",
      "R = std::pow(N(0)*(-P(0) + x(0)) + N(1)*(-P(1) + x(1)) + N(2)*(-P(2) + x(2)), 2);\n",
      "}\n",
      "template <typename T>\n",
      "__host__ __device__ void dHalfPlaneDdx(Eigen::Vector<T,3>& R, const Eigen::Vector<T,3>& x, const Eigen::Vector<T,3>& P, const Eigen::Vector<T,3>& N)\n",
      "{\n",
      "/*****************************************************************************************************************************\n",
      "Function generated by SymEigen.py \n",
      "Author: MuGdxy\n",
      "GitHub: https://github.com/MuGdxy/SymEigen\n",
      "E-Mail: lxy819469559@gmail.com\n",
      "******************************************************************************************************************************\n",
      "LaTeX expression:\n",
      "//tex:$$R = \\left[\\begin{matrix}2 N(0) \\left(N(0) \\left(- P(0) + x(0)\\right) + N(1) \\left(- P(1) + x(1)\\right) + N(2) \\left(- P(2) + x(2)\\right)\\right)\\\\2 N(1) \\left(N(0) \\left(- P(0) + x(0)\\right) + N(1) \\left(- P(1) + x(1)\\right) + N(2) \\left(- P(2) + x(2)\\right)\\right)\\\\2 N(2) \\left(N(0) \\left(- P(0) + x(0)\\right) + N(1) \\left(- P(1) + x(1)\\right) + N(2) \\left(- P(2) + x(2)\\right)\\right)\\end{matrix}\\right]$$\n",
      "\n",
      "Symbol Name Mapping:\n",
      "x:\n",
      "    -> {}\n",
      "    -> Matrix([[x(0)], [x(1)], [x(2)]])\n",
      "P:\n",
      "    -> {}\n",
      "    -> Matrix([[P(0)], [P(1)], [P(2)]])\n",
      "N:\n",
      "    -> {}\n",
      "    -> Matrix([[N(0)], [N(1)], [N(2)]])\n",
      "*****************************************************************************************************************************/\n",
      "/* Sub Exprs */\n",
      "auto x0 = 2*N(0)*(-P(0) + x(0)) + 2*N(1)*(-P(1) + x(1)) + 2*N(2)*(-P(2) + x(2));\n",
      "/* Simplified Expr */\n",
      "R(0) = N(0)*x0;\n",
      "R(1) = N(1)*x0;\n",
      "R(2) = N(2)*x0;\n",
      "}\n",
      "template <typename T>\n",
      "__host__ __device__ void ddHalfPlaneDddx(Eigen::Matrix<T,3,3>& R, const Eigen::Vector<T,3>& x, const Eigen::Vector<T,3>& P, const Eigen::Vector<T,3>& N)\n",
      "{\n",
      "/*****************************************************************************************************************************\n",
      "Function generated by SymEigen.py \n",
      "Author: MuGdxy\n",
      "GitHub: https://github.com/MuGdxy/SymEigen\n",
      "E-Mail: lxy819469559@gmail.com\n",
      "******************************************************************************************************************************\n",
      "LaTeX expression:\n",
      "//tex:$$R = \\left[\\begin{matrix}2 N(0)^{2} & 2 N(0) N(1) & 2 N(0) N(2)\\\\2 N(0) N(1) & 2 N(1)^{2} & 2 N(1) N(2)\\\\2 N(0) N(2) & 2 N(1) N(2) & 2 N(2)^{2}\\end{matrix}\\right]$$\n",
      "\n",
      "Symbol Name Mapping:\n",
      "x:\n",
      "    -> {}\n",
      "    -> Matrix([[x(0)], [x(1)], [x(2)]])\n",
      "P:\n",
      "    -> {}\n",
      "    -> Matrix([[P(0)], [P(1)], [P(2)]])\n",
      "N:\n",
      "    -> {}\n",
      "    -> Matrix([[N(0)], [N(1)], [N(2)]])\n",
      "*****************************************************************************************************************************/\n",
      "/* Sub Exprs */\n",
      "auto x0 = 2*N(0);\n",
      "auto x1 = N(1)*x0;\n",
      "auto x2 = N(2)*x0;\n",
      "auto x3 = 2*N(1)*N(2);\n",
      "/* Simplified Expr */\n",
      "R(0,0) = 2*std::pow(N(0), 2);\n",
      "R(0,1) = x1;\n",
      "R(0,2) = x2;\n",
      "R(1,0) = x1;\n",
      "R(1,1) = 2*std::pow(N(1), 2);\n",
      "R(1,2) = x3;\n",
      "R(2,0) = x2;\n",
      "R(2,1) = x3;\n",
      "R(2,2) = 2*std::pow(N(2), 2);\n",
      "}\n",
      "template <typename T>\n",
      "__host__ __device__ void TR(Eigen::Vector<T,2>& R, const Eigen::Vector<T,3>& x, const Eigen::Vector<T,3>& x0, const Eigen::Vector<T,3>& e1, const Eigen::Vector<T,3>& e2)\n",
      "{\n",
      "/*****************************************************************************************************************************\n",
      "Function generated by SymEigen.py \n",
      "Author: MuGdxy\n",
      "GitHub: https://github.com/MuGdxy/SymEigen\n",
      "E-Mail: lxy819469559@gmail.com\n",
      "******************************************************************************************************************************\n",
      "LaTeX expression:\n",
      "//tex:$$R = \\left[\\begin{matrix}e1(0) \\left(x(0) - x0(0)\\right) + e1(1) \\left(x(1) - x0(1)\\right) + e1(2) \\left(x(2) - x0(2)\\right)\\\\e2(0) \\left(x(0) - x0(0)\\right) + e2(1) \\left(x(1) - x0(1)\\right) + e2(2) \\left(x(2) - x0(2)\\right)\\end{matrix}\\right]$$\n",
      "\n",
      "Symbol Name Mapping:\n",
      "x:\n",
      "    -> {}\n",
      "    -> Matrix([[x(0)], [x(1)], [x(2)]])\n",
      "x0:\n",
      "    -> {}\n",
      "    -> Matrix([[x0(0)], [x0(1)], [x0(2)]])\n",
      "e1:\n",
      "    -> {}\n",
      "    -> Matrix([[e1(0)], [e1(1)], [e1(2)]])\n",
      "e2:\n",
      "    -> {}\n",
      "    -> Matrix([[e2(0)], [e2(1)], [e2(2)]])\n",
      "*****************************************************************************************************************************/\n",
      "/* Sub Exprs */\n",
      "auto x0 = x(0) - x0(0);\n",
      "auto x1 = x(1) - x0(1);\n",
      "auto x2 = x(2) - x0(2);\n",
      "/* Simplified Expr */\n",
      "R(0) = e1(0)*x0 + e1(1)*x1 + e1(2)*x2;\n",
      "R(1) = e2(0)*x0 + e2(1)*x1 + e2(2)*x2;\n",
      "}\n",
      "template <typename T>\n",
      "__host__ __device__ void dTRdx(Eigen::Matrix<T,2,3>& R, const Eigen::Vector<T,3>& x, const Eigen::Vector<T,3>& x0, const Eigen::Vector<T,3>& e1, const Eigen::Vector<T,3>& e2)\n",
      "{\n",
      "/*****************************************************************************************************************************\n",
      "Function generated by SymEigen.py \n",
      "Author: MuGdxy\n",
      "GitHub: https://github.com/MuGdxy/SymEigen\n",
      "E-Mail: lxy819469559@gmail.com\n",
      "******************************************************************************************************************************\n",
      "LaTeX expression:\n",
      "//tex:$$R = \\left[\\begin{matrix}e1(0) & e1(1) & e1(2)\\\\e2(0) & e2(1) & e2(2)\\end{matrix}\\right]$$\n",
      "\n",
      "Symbol Name Mapping:\n",
      "x:\n",
      "    -> {}\n",
      "    -> Matrix([[x(0)], [x(1)], [x(2)]])\n",
      "x0:\n",
      "    -> {}\n",
      "    -> Matrix([[x0(0)], [x0(1)], [x0(2)]])\n",
      "e1:\n",
      "    -> {}\n",
      "    -> Matrix([[e1(0)], [e1(1)], [e1(2)]])\n",
      "e2:\n",
      "    -> {}\n",
      "    -> Matrix([[e2(0)], [e2(1)], [e2(2)]])\n",
      "*****************************************************************************************************************************/\n",
      "/* Sub Exprs */\n",
      "/* Simplified Expr */\n",
      "R(0,0) = e1(0);\n",
      "R(0,1) = e1(1);\n",
      "R(0,2) = e1(2);\n",
      "R(1,0) = e2(0);\n",
      "R(1,1) = e2(1);\n",
      "R(1,2) = e2(2);\n",
      "}\n",
      "\n",
      "project_dir: D:\\MyStorage\\Project\\uipc_project\\libuipc\n"
     ]
    }
   ],
   "source": [
    "s = f'''\n",
    "// > Squared Version\n",
    "// > D := d*d \n",
    "// > DHat := dHat*dHat\n",
    "\n",
    "{Cl0(\"HalfPlaneD\",D)}\n",
    "{Cl0(\"dHalfPlaneDdx\",dDdx)}\n",
    "{Cl0(\"ddHalfPlaneDddx\",ddDddx)}\n",
    "{Cl1(\"TR\",TR)}\n",
    "{Cl1(\"dTRdx\",dTRdx)}\n",
    "'''\n",
    "print(s)\n",
    "\n",
    "f = open( project_dir() / 'src/uipc/backends/cuda/contact_system/contact_models/sym/vertex_half_plane_distance.inl', 'w')\n",
    "f.write(s)\n",
    "f.close()"
   ]
  }
 ],
 "metadata": {
  "kernelspec": {
   "display_name": "Python 3",
   "language": "python",
   "name": "python3"
  },
  "language_info": {
   "codemirror_mode": {
    "name": "ipython",
    "version": 3
   },
   "file_extension": ".py",
   "mimetype": "text/x-python",
   "name": "python",
   "nbconvert_exporter": "python",
   "pygments_lexer": "ipython3",
   "version": "3.11.5"
  },
  "orig_nbformat": 4
 },
 "nbformat": 4,
 "nbformat_minor": 2
}
