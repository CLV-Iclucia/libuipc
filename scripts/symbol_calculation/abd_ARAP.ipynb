{
 "cells": [
  {
   "cell_type": "code",
   "execution_count": 11,
   "metadata": {},
   "outputs": [],
   "source": [
    "import sys\n",
    "import os\n",
    "sys.path.append('../')\n",
    "import pathlib as pl\n",
    "from SymEigen import *\n",
    "from sympy import symbols\n",
    "from project_dir import project_dir\n",
    "\n",
    "Gen = EigenFunctionGenerator()\n",
    "Gen.MacroBeforeFunction(\"__host__ __device__\")\n"
   ]
  },
  {
   "cell_type": "code",
   "execution_count": 12,
   "metadata": {},
   "outputs": [],
   "source": [
    "q= Eigen.Matrix(\"q\", 2,2)\n",
    "\n",
    "\n",
    "F= Matrix(q)\n",
    "\n",
    "Q,Sig,U = F.singular_value_decomposition()\n"
   ]
  },
  {
   "cell_type": "code",
   "execution_count": 2,
   "metadata": {},
   "outputs": [
    {
     "data": {
      "text/plain": [
       "<sympy.assumptions.ask.AssumptionKeys at 0x2b73f575b90>"
      ]
     },
     "execution_count": 2,
     "metadata": {},
     "output_type": "execute_result"
    }
   ],
   "source": [
    "Q"
   ]
  },
  {
   "cell_type": "code",
   "execution_count": null,
   "metadata": {},
   "outputs": [],
   "source": []
  },
  {
   "cell_type": "code",
   "execution_count": 13,
   "metadata": {},
   "outputs": [],
   "source": [
    "import sympy as sp\n",
    "import numpy as np\n",
    "\n",
    "# 定义一个符号矩阵\n",
    "A = sp.MatrixSymbol('A', 3, 3)\n",
    "A_matrix = sp.Matrix(A)\n"
   ]
  },
  {
   "cell_type": "code",
   "execution_count": 14,
   "metadata": {},
   "outputs": [
    {
     "ename": "TypeError",
     "evalue": "Cannot convert expression to float",
     "output_type": "error",
     "traceback": [
      "\u001b[1;31m---------------------------------------------------------------------------\u001b[0m",
      "\u001b[1;31mTypeError\u001b[0m                                 Traceback (most recent call last)",
      "Cell \u001b[1;32mIn[14], line 2\u001b[0m\n\u001b[0;32m      1\u001b[0m \u001b[38;5;66;03m# 将符号矩阵转换为数值矩阵\u001b[39;00m\n\u001b[1;32m----> 2\u001b[0m A_num \u001b[38;5;241m=\u001b[39m np\u001b[38;5;241m.\u001b[39marray(A_matrix)\u001b[38;5;241m.\u001b[39mastype(np\u001b[38;5;241m.\u001b[39mfloat64)\n\u001b[0;32m      4\u001b[0m \u001b[38;5;66;03m# 使用 NumPy 进行奇异值分解\u001b[39;00m\n\u001b[0;32m      5\u001b[0m U, sigma, Vt \u001b[38;5;241m=\u001b[39m np\u001b[38;5;241m.\u001b[39mlinalg\u001b[38;5;241m.\u001b[39msvd(A_num)\n",
      "File \u001b[1;32me:\\anaconda\\Lib\\site-packages\\sympy\\core\\expr.py:351\u001b[0m, in \u001b[0;36mExpr.__float__\u001b[1;34m(self)\u001b[0m\n\u001b[0;32m    349\u001b[0m \u001b[38;5;28;01mif\u001b[39;00m result\u001b[38;5;241m.\u001b[39mis_number \u001b[38;5;129;01mand\u001b[39;00m result\u001b[38;5;241m.\u001b[39mas_real_imag()[\u001b[38;5;241m1\u001b[39m]:\n\u001b[0;32m    350\u001b[0m     \u001b[38;5;28;01mraise\u001b[39;00m \u001b[38;5;167;01mTypeError\u001b[39;00m(\u001b[38;5;124m\"\u001b[39m\u001b[38;5;124mCannot convert complex to float\u001b[39m\u001b[38;5;124m\"\u001b[39m)\n\u001b[1;32m--> 351\u001b[0m \u001b[38;5;28;01mraise\u001b[39;00m \u001b[38;5;167;01mTypeError\u001b[39;00m(\u001b[38;5;124m\"\u001b[39m\u001b[38;5;124mCannot convert expression to float\u001b[39m\u001b[38;5;124m\"\u001b[39m)\n",
      "\u001b[1;31mTypeError\u001b[0m: Cannot convert expression to float"
     ]
    }
   ],
   "source": [
    "\n",
    "# 将符号矩阵转换为数值矩阵\n",
    "A_num = np.array(A_matrix).astype(np.float64)\n",
    "\n",
    "# 使用 NumPy 进行奇异值分解\n",
    "U, sigma, Vt = np.linalg.svd(A_num)\n"
   ]
  },
  {
   "cell_type": "code",
   "execution_count": null,
   "metadata": {},
   "outputs": [],
   "source": [
    "\n",
    "# 将结果转换为 SymPy 矩阵\n",
    "U_sym = sp.Matrix(U)\n",
    "sigma_sym = sp.Matrix(np.diag(sigma))\n",
    "Vt_sym = sp.Matrix(Vt)\n",
    "\n",
    "# 计算导数（例如对矩阵元素 A[0, 0] 求导）\n",
    "dU_dA00 = sp.diff(U_sym, A_matrix[0, 0])\n",
    "dSigma_dA00 = sp.diff(sigma_sym, A_matrix[0, 0])\n",
    "dVt_dA00 = sp.diff(Vt_sym, A_matrix[0, 0])\n",
    "\n",
    "print(\"U:\")\n",
    "print(U_sym)\n",
    "print(\"Sigma:\")\n",
    "print(sigma_sym)\n",
    "print(\"Vt:\")\n",
    "print(Vt_sym)\n",
    "\n",
    "print(\"dU/dA[0,0]:\")\n",
    "print(dU_dA00)\n",
    "print(\"dSigma/dA[0,0]:\")\n",
    "print(dSigma_dA00)\n",
    "print(\"dVt/dA[0,0]:\")\n",
    "print(dVt_dA00)\n"
   ]
  }
 ],
 "metadata": {
  "kernelspec": {
   "display_name": "base",
   "language": "python",
   "name": "python3"
  },
  "language_info": {
   "codemirror_mode": {
    "name": "ipython",
    "version": 3
   },
   "file_extension": ".py",
   "mimetype": "text/x-python",
   "name": "python",
   "nbconvert_exporter": "python",
   "pygments_lexer": "ipython3",
   "version": "3.11.7"
  }
 },
 "nbformat": 4,
 "nbformat_minor": 2
}
