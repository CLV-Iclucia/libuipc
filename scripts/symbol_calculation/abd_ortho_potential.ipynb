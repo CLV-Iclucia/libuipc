{
 "cells": [
  {
   "cell_type": "code",
   "execution_count": null,
   "metadata": {},
   "outputs": [],
   "source": [
    "import sys\n",
    "import os\n",
    "sys.path.append('../')\n",
    "import pathlib as pl\n",
    "from SymEigen import *\n",
    "from sympy import symbols\n",
    "from project_dir import project_dir\n",
    "\n",
    "Gen = EigenFunctionGenerator()\n",
    "Gen.MacroBeforeFunction(\"__host__ __device__\")\n"
   ]
  },
  {
   "cell_type": "code",
   "execution_count": null,
   "metadata": {},
   "outputs": [],
   "source": [
    "kappa = Eigen.Scalar(\"kappa\")\n",
    "v = Eigen.Scalar(\"v\")\n",
    "q = Eigen.Vector(\"q\", 12)\n",
    "q_a = Matrix(q[3:12])\n",
    "\n",
    "Cl = Gen.Closure(kappa, v, q)\n",
    "\n",
    "q_a"
   ]
  },
  {
   "cell_type": "code",
   "execution_count": null,
   "metadata": {},
   "outputs": [],
   "source": [
    "a = [Matrix(q_a[0:3]), Matrix(q_a[3:6]), Matrix(q_a[6:9])]\n",
    "a"
   ]
  },
  {
   "cell_type": "code",
   "execution_count": null,
   "metadata": {},
   "outputs": [],
   "source": [
    "E = 0\n",
    "for i in range(3):\n",
    "    E+=(a[i].dot(a[i]) - 1)**2\n",
    "for i in range(3):\n",
    "    for j in range(3):\n",
    "        if i!=j:\n",
    "            E+=(a[i].dot(a[j]))**2\n",
    "\n",
    "E*=kappa * v\n",
    "\n",
    "E"
   ]
  },
  {
   "cell_type": "code",
   "execution_count": null,
   "metadata": {},
   "outputs": [],
   "source": [
    "dEdq = VecDiff(E,q_a)\n",
    "dEdq"
   ]
  },
  {
   "cell_type": "code",
   "execution_count": null,
   "metadata": {},
   "outputs": [],
   "source": [
    "ddEddq = VecDiff(dEdq, q_a)\n",
    "ddEddq"
   ]
  },
  {
   "cell_type": "code",
   "execution_count": null,
   "metadata": {},
   "outputs": [],
   "source": [
    "s = f'''// Affine body Orthogonal Potential\n",
    "\n",
    "{Cl(\"E\",E)}\n",
    "{Cl(\"dEdq\",dEdq)}\n",
    "{Cl(\"ddEddq\",ddEddq)}\n",
    "'''\n",
    "print(s)\n",
    "\n",
    "f = open( project_dir() / 'src/uipc/backends/cuda/affine_body/constitutions/sym/ortho_potential.inl', 'w')\n",
    "f.write(s)\n",
    "f.close()"
   ]
  }
 ],
 "metadata": {
  "kernelspec": {
   "display_name": "Python 3",
   "language": "python",
   "name": "python3"
  },
  "language_info": {
   "codemirror_mode": {
    "name": "ipython",
    "version": 3
   },
   "file_extension": ".py",
   "mimetype": "text/x-python",
   "name": "python",
   "nbconvert_exporter": "python",
   "pygments_lexer": "ipython3",
   "version": "3.11.5"
  },
  "orig_nbformat": 4
 },
 "nbformat": 4,
 "nbformat_minor": 2
}
