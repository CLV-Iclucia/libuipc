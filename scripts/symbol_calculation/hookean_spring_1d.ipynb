{
 "cells": [
  {
   "cell_type": "code",
   "execution_count": null,
   "metadata": {},
   "outputs": [],
   "source": [
    "import sys\n",
    "import os\n",
    "sys.path.append('../')\n",
    "import pathlib as pl\n",
    "from SymEigen import *\n",
    "\n",
    "from sympy import symbols, Matrix, log, sqrt\n",
    "from project_dir import backend_source_dir\n",
    "Gen = EigenFunctionGenerator()\n",
    "Gen.MacroBeforeFunction(\"__host__ __device__\")\n",
    "Gen.DisableLatexComment()\n",
    "\n",
    "k = Eigen.Scalar('k')\n",
    "L0 = Eigen.Scalar('L0')\n",
    "\n",
    "X = Eigen.Vector(\"X\", 6)\n",
    "X0 = X[0:3,0]\n",
    "X1 = X[3:6,0]\n",
    "\n",
    "X0 = Matrix(X0)\n",
    "\n",
    "d = X1 - X0"
   ]
  },
  {
   "cell_type": "code",
   "execution_count": null,
   "metadata": {},
   "outputs": [],
   "source": [
    "\n",
    "E = k * ((sqrt(d.T * d) - L0)/L0)**2 / 2\n",
    "E"
   ]
  },
  {
   "cell_type": "code",
   "execution_count": null,
   "metadata": {},
   "outputs": [],
   "source": [
    "dEdX = VecDiff(E, X)\n",
    "dEdX"
   ]
  },
  {
   "cell_type": "code",
   "execution_count": null,
   "metadata": {},
   "outputs": [],
   "source": [
    "ddEddX = VecDiff(dEdX, X)\n",
    "ddEddX"
   ]
  },
  {
   "cell_type": "code",
   "execution_count": null,
   "metadata": {},
   "outputs": [],
   "source": [
    "pGpk = VecDiff(dEdX, k)\n",
    "pGpk"
   ]
  },
  {
   "cell_type": "code",
   "execution_count": null,
   "metadata": {},
   "outputs": [],
   "source": [
    "Cl = Gen.Closure(k, X, L0)"
   ]
  },
  {
   "cell_type": "code",
   "execution_count": null,
   "metadata": {},
   "outputs": [],
   "source": [
    "s = f'''\n",
    "{Cl(\"E\",E)}\n",
    "{Cl(\"dEdX\",dEdX)}\n",
    "{Cl(\"ddEddX\",ddEddX)}\n",
    "{Cl(\"pGpk\",pGpk)}\n",
    "'''\n",
    "print(s)\n",
    "\n",
    "f = open( backend_source_dir('cuda') / 'finite_element/constitutions/sym/hookean_spring_1d.inl', 'w')\n",
    "f.write(s)\n",
    "f.close()"
   ]
  }
 ],
 "metadata": {
  "kernelspec": {
   "display_name": "Python 3",
   "language": "python",
   "name": "python3"
  },
  "language_info": {
   "codemirror_mode": {
    "name": "ipython",
    "version": 3
   },
   "file_extension": ".py",
   "mimetype": "text/x-python",
   "name": "python",
   "nbconvert_exporter": "python",
   "pygments_lexer": "ipython3",
   "version": "3.11.5"
  },
  "orig_nbformat": 4
 },
 "nbformat": 4,
 "nbformat_minor": 2
}
