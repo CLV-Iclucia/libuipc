{
 "cells": [
  {
   "cell_type": "code",
   "execution_count": 1,
   "metadata": {},
   "outputs": [],
   "source": [
    "import sys\n",
    "import os\n",
    "sys.path.append('../')\n",
    "import pathlib as pl\n",
    "from SymEigen import *\n",
    "\n",
    "from sympy import symbols, Matrix, log, sqrt\n",
    "from project_dir import backend_source_dir\n",
    "Gen = EigenFunctionGenerator()\n",
    "Gen.MacroBeforeFunction(\"__host__ __device__\")\n",
    "Gen.DisableLatexComment()\n",
    "\n",
    "k = Eigen.Scalar('k')\n",
    "L0 = Eigen.Scalar('L0')\n",
    "\n",
    "X = Eigen.Vector(\"X\", 6)\n",
    "X0 = X[0:3,0]\n",
    "X1 = X[3:6,0]\n",
    "\n",
    "X0 = Matrix(X0)\n",
    "\n",
    "d = X1 - X0"
   ]
  },
  {
   "cell_type": "code",
   "execution_count": 2,
   "metadata": {},
   "outputs": [
    {
     "data": {
      "text/latex": [
       "$\\displaystyle \\left[\\begin{matrix}\\frac{k \\left(- L_{0} + \\sqrt{\\left(- X(0) + X(3)\\right)^{2} + \\left(- X(1) + X(4)\\right)^{2} + \\left(- X(2) + X(5)\\right)^{2}}\\right)^{2}}{2 L_{0}^{2}}\\end{matrix}\\right]$"
      ],
      "text/plain": [
       "Matrix([[k*(-L0 + sqrt((-X(0) + X(3))**2 + (-X(1) + X(4))**2 + (-X(2) + X(5))**2))**2/(2*L0**2)]])"
      ]
     },
     "execution_count": 2,
     "metadata": {},
     "output_type": "execute_result"
    }
   ],
   "source": [
    "\n",
    "E = k * ((sqrt(d.T * d) - L0)/L0)**2 / 2\n",
    "E"
   ]
  },
  {
   "cell_type": "code",
   "execution_count": 3,
   "metadata": {},
   "outputs": [
    {
     "data": {
      "text/latex": [
       "$\\displaystyle \\left[\\begin{matrix}\\frac{k \\left(- L_{0} + \\sqrt{\\left(- X(0) + X(3)\\right)^{2} + \\left(- X(1) + X(4)\\right)^{2} + \\left(- X(2) + X(5)\\right)^{2}}\\right) \\left(X(0) - X(3)\\right)}{L_{0}^{2} \\sqrt{\\left(- X(0) + X(3)\\right)^{2} + \\left(- X(1) + X(4)\\right)^{2} + \\left(- X(2) + X(5)\\right)^{2}}}\\\\\\frac{k \\left(- L_{0} + \\sqrt{\\left(- X(0) + X(3)\\right)^{2} + \\left(- X(1) + X(4)\\right)^{2} + \\left(- X(2) + X(5)\\right)^{2}}\\right) \\left(X(1) - X(4)\\right)}{L_{0}^{2} \\sqrt{\\left(- X(0) + X(3)\\right)^{2} + \\left(- X(1) + X(4)\\right)^{2} + \\left(- X(2) + X(5)\\right)^{2}}}\\\\\\frac{k \\left(- L_{0} + \\sqrt{\\left(- X(0) + X(3)\\right)^{2} + \\left(- X(1) + X(4)\\right)^{2} + \\left(- X(2) + X(5)\\right)^{2}}\\right) \\left(X(2) - X(5)\\right)}{L_{0}^{2} \\sqrt{\\left(- X(0) + X(3)\\right)^{2} + \\left(- X(1) + X(4)\\right)^{2} + \\left(- X(2) + X(5)\\right)^{2}}}\\\\\\frac{k \\left(- L_{0} + \\sqrt{\\left(- X(0) + X(3)\\right)^{2} + \\left(- X(1) + X(4)\\right)^{2} + \\left(- X(2) + X(5)\\right)^{2}}\\right) \\left(- X(0) + X(3)\\right)}{L_{0}^{2} \\sqrt{\\left(- X(0) + X(3)\\right)^{2} + \\left(- X(1) + X(4)\\right)^{2} + \\left(- X(2) + X(5)\\right)^{2}}}\\\\\\frac{k \\left(- L_{0} + \\sqrt{\\left(- X(0) + X(3)\\right)^{2} + \\left(- X(1) + X(4)\\right)^{2} + \\left(- X(2) + X(5)\\right)^{2}}\\right) \\left(- X(1) + X(4)\\right)}{L_{0}^{2} \\sqrt{\\left(- X(0) + X(3)\\right)^{2} + \\left(- X(1) + X(4)\\right)^{2} + \\left(- X(2) + X(5)\\right)^{2}}}\\\\\\frac{k \\left(- L_{0} + \\sqrt{\\left(- X(0) + X(3)\\right)^{2} + \\left(- X(1) + X(4)\\right)^{2} + \\left(- X(2) + X(5)\\right)^{2}}\\right) \\left(- X(2) + X(5)\\right)}{L_{0}^{2} \\sqrt{\\left(- X(0) + X(3)\\right)^{2} + \\left(- X(1) + X(4)\\right)^{2} + \\left(- X(2) + X(5)\\right)^{2}}}\\end{matrix}\\right]$"
      ],
      "text/plain": [
       "Matrix([\n",
       "[ k*(-L0 + sqrt((-X(0) + X(3))**2 + (-X(1) + X(4))**2 + (-X(2) + X(5))**2))*(X(0) - X(3))/(L0**2*sqrt((-X(0) + X(3))**2 + (-X(1) + X(4))**2 + (-X(2) + X(5))**2))],\n",
       "[ k*(-L0 + sqrt((-X(0) + X(3))**2 + (-X(1) + X(4))**2 + (-X(2) + X(5))**2))*(X(1) - X(4))/(L0**2*sqrt((-X(0) + X(3))**2 + (-X(1) + X(4))**2 + (-X(2) + X(5))**2))],\n",
       "[ k*(-L0 + sqrt((-X(0) + X(3))**2 + (-X(1) + X(4))**2 + (-X(2) + X(5))**2))*(X(2) - X(5))/(L0**2*sqrt((-X(0) + X(3))**2 + (-X(1) + X(4))**2 + (-X(2) + X(5))**2))],\n",
       "[k*(-L0 + sqrt((-X(0) + X(3))**2 + (-X(1) + X(4))**2 + (-X(2) + X(5))**2))*(-X(0) + X(3))/(L0**2*sqrt((-X(0) + X(3))**2 + (-X(1) + X(4))**2 + (-X(2) + X(5))**2))],\n",
       "[k*(-L0 + sqrt((-X(0) + X(3))**2 + (-X(1) + X(4))**2 + (-X(2) + X(5))**2))*(-X(1) + X(4))/(L0**2*sqrt((-X(0) + X(3))**2 + (-X(1) + X(4))**2 + (-X(2) + X(5))**2))],\n",
       "[k*(-L0 + sqrt((-X(0) + X(3))**2 + (-X(1) + X(4))**2 + (-X(2) + X(5))**2))*(-X(2) + X(5))/(L0**2*sqrt((-X(0) + X(3))**2 + (-X(1) + X(4))**2 + (-X(2) + X(5))**2))]])"
      ]
     },
     "execution_count": 3,
     "metadata": {},
     "output_type": "execute_result"
    }
   ],
   "source": [
    "dEdX = VecDiff(E, X)\n",
    "dEdX"
   ]
  },
  {
   "cell_type": "code",
   "execution_count": 4,
   "metadata": {},
   "outputs": [
    {
     "data": {
      "text/latex": [
       "$\\displaystyle \\left[\\begin{matrix}\\frac{k \\left(- L_{0} + \\sqrt{\\left(- X(0) + X(3)\\right)^{2} + \\left(- X(1) + X(4)\\right)^{2} + \\left(- X(2) + X(5)\\right)^{2}}\\right) \\left(- X(0) + X(3)\\right) \\left(X(0) - X(3)\\right)}{L_{0}^{2} \\left(\\left(- X(0) + X(3)\\right)^{2} + \\left(- X(1) + X(4)\\right)^{2} + \\left(- X(2) + X(5)\\right)^{2}\\right)^{\\frac{3}{2}}} + \\frac{k \\left(- L_{0} + \\sqrt{\\left(- X(0) + X(3)\\right)^{2} + \\left(- X(1) + X(4)\\right)^{2} + \\left(- X(2) + X(5)\\right)^{2}}\\right)}{L_{0}^{2} \\sqrt{\\left(- X(0) + X(3)\\right)^{2} + \\left(- X(1) + X(4)\\right)^{2} + \\left(- X(2) + X(5)\\right)^{2}}} + \\frac{k \\left(X(0) - X(3)\\right)^{2}}{L_{0}^{2} \\left(\\left(- X(0) + X(3)\\right)^{2} + \\left(- X(1) + X(4)\\right)^{2} + \\left(- X(2) + X(5)\\right)^{2}\\right)} & \\frac{k \\left(- L_{0} + \\sqrt{\\left(- X(0) + X(3)\\right)^{2} + \\left(- X(1) + X(4)\\right)^{2} + \\left(- X(2) + X(5)\\right)^{2}}\\right) \\left(X(0) - X(3)\\right) \\left(- X(1) + X(4)\\right)}{L_{0}^{2} \\left(\\left(- X(0) + X(3)\\right)^{2} + \\left(- X(1) + X(4)\\right)^{2} + \\left(- X(2) + X(5)\\right)^{2}\\right)^{\\frac{3}{2}}} + \\frac{k \\left(X(0) - X(3)\\right) \\left(X(1) - X(4)\\right)}{L_{0}^{2} \\left(\\left(- X(0) + X(3)\\right)^{2} + \\left(- X(1) + X(4)\\right)^{2} + \\left(- X(2) + X(5)\\right)^{2}\\right)} & \\frac{k \\left(- L_{0} + \\sqrt{\\left(- X(0) + X(3)\\right)^{2} + \\left(- X(1) + X(4)\\right)^{2} + \\left(- X(2) + X(5)\\right)^{2}}\\right) \\left(X(0) - X(3)\\right) \\left(- X(2) + X(5)\\right)}{L_{0}^{2} \\left(\\left(- X(0) + X(3)\\right)^{2} + \\left(- X(1) + X(4)\\right)^{2} + \\left(- X(2) + X(5)\\right)^{2}\\right)^{\\frac{3}{2}}} + \\frac{k \\left(X(0) - X(3)\\right) \\left(X(2) - X(5)\\right)}{L_{0}^{2} \\left(\\left(- X(0) + X(3)\\right)^{2} + \\left(- X(1) + X(4)\\right)^{2} + \\left(- X(2) + X(5)\\right)^{2}\\right)} & \\frac{k \\left(- L_{0} + \\sqrt{\\left(- X(0) + X(3)\\right)^{2} + \\left(- X(1) + X(4)\\right)^{2} + \\left(- X(2) + X(5)\\right)^{2}}\\right) \\left(X(0) - X(3)\\right)^{2}}{L_{0}^{2} \\left(\\left(- X(0) + X(3)\\right)^{2} + \\left(- X(1) + X(4)\\right)^{2} + \\left(- X(2) + X(5)\\right)^{2}\\right)^{\\frac{3}{2}}} - \\frac{k \\left(- L_{0} + \\sqrt{\\left(- X(0) + X(3)\\right)^{2} + \\left(- X(1) + X(4)\\right)^{2} + \\left(- X(2) + X(5)\\right)^{2}}\\right)}{L_{0}^{2} \\sqrt{\\left(- X(0) + X(3)\\right)^{2} + \\left(- X(1) + X(4)\\right)^{2} + \\left(- X(2) + X(5)\\right)^{2}}} + \\frac{k \\left(- X(0) + X(3)\\right) \\left(X(0) - X(3)\\right)}{L_{0}^{2} \\left(\\left(- X(0) + X(3)\\right)^{2} + \\left(- X(1) + X(4)\\right)^{2} + \\left(- X(2) + X(5)\\right)^{2}\\right)} & \\frac{k \\left(- L_{0} + \\sqrt{\\left(- X(0) + X(3)\\right)^{2} + \\left(- X(1) + X(4)\\right)^{2} + \\left(- X(2) + X(5)\\right)^{2}}\\right) \\left(X(0) - X(3)\\right) \\left(X(1) - X(4)\\right)}{L_{0}^{2} \\left(\\left(- X(0) + X(3)\\right)^{2} + \\left(- X(1) + X(4)\\right)^{2} + \\left(- X(2) + X(5)\\right)^{2}\\right)^{\\frac{3}{2}}} + \\frac{k \\left(X(0) - X(3)\\right) \\left(- X(1) + X(4)\\right)}{L_{0}^{2} \\left(\\left(- X(0) + X(3)\\right)^{2} + \\left(- X(1) + X(4)\\right)^{2} + \\left(- X(2) + X(5)\\right)^{2}\\right)} & \\frac{k \\left(- L_{0} + \\sqrt{\\left(- X(0) + X(3)\\right)^{2} + \\left(- X(1) + X(4)\\right)^{2} + \\left(- X(2) + X(5)\\right)^{2}}\\right) \\left(X(0) - X(3)\\right) \\left(X(2) - X(5)\\right)}{L_{0}^{2} \\left(\\left(- X(0) + X(3)\\right)^{2} + \\left(- X(1) + X(4)\\right)^{2} + \\left(- X(2) + X(5)\\right)^{2}\\right)^{\\frac{3}{2}}} + \\frac{k \\left(X(0) - X(3)\\right) \\left(- X(2) + X(5)\\right)}{L_{0}^{2} \\left(\\left(- X(0) + X(3)\\right)^{2} + \\left(- X(1) + X(4)\\right)^{2} + \\left(- X(2) + X(5)\\right)^{2}\\right)}\\\\\\frac{k \\left(- L_{0} + \\sqrt{\\left(- X(0) + X(3)\\right)^{2} + \\left(- X(1) + X(4)\\right)^{2} + \\left(- X(2) + X(5)\\right)^{2}}\\right) \\left(- X(0) + X(3)\\right) \\left(X(1) - X(4)\\right)}{L_{0}^{2} \\left(\\left(- X(0) + X(3)\\right)^{2} + \\left(- X(1) + X(4)\\right)^{2} + \\left(- X(2) + X(5)\\right)^{2}\\right)^{\\frac{3}{2}}} + \\frac{k \\left(X(0) - X(3)\\right) \\left(X(1) - X(4)\\right)}{L_{0}^{2} \\left(\\left(- X(0) + X(3)\\right)^{2} + \\left(- X(1) + X(4)\\right)^{2} + \\left(- X(2) + X(5)\\right)^{2}\\right)} & \\frac{k \\left(- L_{0} + \\sqrt{\\left(- X(0) + X(3)\\right)^{2} + \\left(- X(1) + X(4)\\right)^{2} + \\left(- X(2) + X(5)\\right)^{2}}\\right) \\left(- X(1) + X(4)\\right) \\left(X(1) - X(4)\\right)}{L_{0}^{2} \\left(\\left(- X(0) + X(3)\\right)^{2} + \\left(- X(1) + X(4)\\right)^{2} + \\left(- X(2) + X(5)\\right)^{2}\\right)^{\\frac{3}{2}}} + \\frac{k \\left(- L_{0} + \\sqrt{\\left(- X(0) + X(3)\\right)^{2} + \\left(- X(1) + X(4)\\right)^{2} + \\left(- X(2) + X(5)\\right)^{2}}\\right)}{L_{0}^{2} \\sqrt{\\left(- X(0) + X(3)\\right)^{2} + \\left(- X(1) + X(4)\\right)^{2} + \\left(- X(2) + X(5)\\right)^{2}}} + \\frac{k \\left(X(1) - X(4)\\right)^{2}}{L_{0}^{2} \\left(\\left(- X(0) + X(3)\\right)^{2} + \\left(- X(1) + X(4)\\right)^{2} + \\left(- X(2) + X(5)\\right)^{2}\\right)} & \\frac{k \\left(- L_{0} + \\sqrt{\\left(- X(0) + X(3)\\right)^{2} + \\left(- X(1) + X(4)\\right)^{2} + \\left(- X(2) + X(5)\\right)^{2}}\\right) \\left(X(1) - X(4)\\right) \\left(- X(2) + X(5)\\right)}{L_{0}^{2} \\left(\\left(- X(0) + X(3)\\right)^{2} + \\left(- X(1) + X(4)\\right)^{2} + \\left(- X(2) + X(5)\\right)^{2}\\right)^{\\frac{3}{2}}} + \\frac{k \\left(X(1) - X(4)\\right) \\left(X(2) - X(5)\\right)}{L_{0}^{2} \\left(\\left(- X(0) + X(3)\\right)^{2} + \\left(- X(1) + X(4)\\right)^{2} + \\left(- X(2) + X(5)\\right)^{2}\\right)} & \\frac{k \\left(- L_{0} + \\sqrt{\\left(- X(0) + X(3)\\right)^{2} + \\left(- X(1) + X(4)\\right)^{2} + \\left(- X(2) + X(5)\\right)^{2}}\\right) \\left(X(0) - X(3)\\right) \\left(X(1) - X(4)\\right)}{L_{0}^{2} \\left(\\left(- X(0) + X(3)\\right)^{2} + \\left(- X(1) + X(4)\\right)^{2} + \\left(- X(2) + X(5)\\right)^{2}\\right)^{\\frac{3}{2}}} + \\frac{k \\left(- X(0) + X(3)\\right) \\left(X(1) - X(4)\\right)}{L_{0}^{2} \\left(\\left(- X(0) + X(3)\\right)^{2} + \\left(- X(1) + X(4)\\right)^{2} + \\left(- X(2) + X(5)\\right)^{2}\\right)} & \\frac{k \\left(- L_{0} + \\sqrt{\\left(- X(0) + X(3)\\right)^{2} + \\left(- X(1) + X(4)\\right)^{2} + \\left(- X(2) + X(5)\\right)^{2}}\\right) \\left(X(1) - X(4)\\right)^{2}}{L_{0}^{2} \\left(\\left(- X(0) + X(3)\\right)^{2} + \\left(- X(1) + X(4)\\right)^{2} + \\left(- X(2) + X(5)\\right)^{2}\\right)^{\\frac{3}{2}}} - \\frac{k \\left(- L_{0} + \\sqrt{\\left(- X(0) + X(3)\\right)^{2} + \\left(- X(1) + X(4)\\right)^{2} + \\left(- X(2) + X(5)\\right)^{2}}\\right)}{L_{0}^{2} \\sqrt{\\left(- X(0) + X(3)\\right)^{2} + \\left(- X(1) + X(4)\\right)^{2} + \\left(- X(2) + X(5)\\right)^{2}}} + \\frac{k \\left(- X(1) + X(4)\\right) \\left(X(1) - X(4)\\right)}{L_{0}^{2} \\left(\\left(- X(0) + X(3)\\right)^{2} + \\left(- X(1) + X(4)\\right)^{2} + \\left(- X(2) + X(5)\\right)^{2}\\right)} & \\frac{k \\left(- L_{0} + \\sqrt{\\left(- X(0) + X(3)\\right)^{2} + \\left(- X(1) + X(4)\\right)^{2} + \\left(- X(2) + X(5)\\right)^{2}}\\right) \\left(X(1) - X(4)\\right) \\left(X(2) - X(5)\\right)}{L_{0}^{2} \\left(\\left(- X(0) + X(3)\\right)^{2} + \\left(- X(1) + X(4)\\right)^{2} + \\left(- X(2) + X(5)\\right)^{2}\\right)^{\\frac{3}{2}}} + \\frac{k \\left(X(1) - X(4)\\right) \\left(- X(2) + X(5)\\right)}{L_{0}^{2} \\left(\\left(- X(0) + X(3)\\right)^{2} + \\left(- X(1) + X(4)\\right)^{2} + \\left(- X(2) + X(5)\\right)^{2}\\right)}\\\\\\frac{k \\left(- L_{0} + \\sqrt{\\left(- X(0) + X(3)\\right)^{2} + \\left(- X(1) + X(4)\\right)^{2} + \\left(- X(2) + X(5)\\right)^{2}}\\right) \\left(- X(0) + X(3)\\right) \\left(X(2) - X(5)\\right)}{L_{0}^{2} \\left(\\left(- X(0) + X(3)\\right)^{2} + \\left(- X(1) + X(4)\\right)^{2} + \\left(- X(2) + X(5)\\right)^{2}\\right)^{\\frac{3}{2}}} + \\frac{k \\left(X(0) - X(3)\\right) \\left(X(2) - X(5)\\right)}{L_{0}^{2} \\left(\\left(- X(0) + X(3)\\right)^{2} + \\left(- X(1) + X(4)\\right)^{2} + \\left(- X(2) + X(5)\\right)^{2}\\right)} & \\frac{k \\left(- L_{0} + \\sqrt{\\left(- X(0) + X(3)\\right)^{2} + \\left(- X(1) + X(4)\\right)^{2} + \\left(- X(2) + X(5)\\right)^{2}}\\right) \\left(- X(1) + X(4)\\right) \\left(X(2) - X(5)\\right)}{L_{0}^{2} \\left(\\left(- X(0) + X(3)\\right)^{2} + \\left(- X(1) + X(4)\\right)^{2} + \\left(- X(2) + X(5)\\right)^{2}\\right)^{\\frac{3}{2}}} + \\frac{k \\left(X(1) - X(4)\\right) \\left(X(2) - X(5)\\right)}{L_{0}^{2} \\left(\\left(- X(0) + X(3)\\right)^{2} + \\left(- X(1) + X(4)\\right)^{2} + \\left(- X(2) + X(5)\\right)^{2}\\right)} & \\frac{k \\left(- L_{0} + \\sqrt{\\left(- X(0) + X(3)\\right)^{2} + \\left(- X(1) + X(4)\\right)^{2} + \\left(- X(2) + X(5)\\right)^{2}}\\right) \\left(- X(2) + X(5)\\right) \\left(X(2) - X(5)\\right)}{L_{0}^{2} \\left(\\left(- X(0) + X(3)\\right)^{2} + \\left(- X(1) + X(4)\\right)^{2} + \\left(- X(2) + X(5)\\right)^{2}\\right)^{\\frac{3}{2}}} + \\frac{k \\left(- L_{0} + \\sqrt{\\left(- X(0) + X(3)\\right)^{2} + \\left(- X(1) + X(4)\\right)^{2} + \\left(- X(2) + X(5)\\right)^{2}}\\right)}{L_{0}^{2} \\sqrt{\\left(- X(0) + X(3)\\right)^{2} + \\left(- X(1) + X(4)\\right)^{2} + \\left(- X(2) + X(5)\\right)^{2}}} + \\frac{k \\left(X(2) - X(5)\\right)^{2}}{L_{0}^{2} \\left(\\left(- X(0) + X(3)\\right)^{2} + \\left(- X(1) + X(4)\\right)^{2} + \\left(- X(2) + X(5)\\right)^{2}\\right)} & \\frac{k \\left(- L_{0} + \\sqrt{\\left(- X(0) + X(3)\\right)^{2} + \\left(- X(1) + X(4)\\right)^{2} + \\left(- X(2) + X(5)\\right)^{2}}\\right) \\left(X(0) - X(3)\\right) \\left(X(2) - X(5)\\right)}{L_{0}^{2} \\left(\\left(- X(0) + X(3)\\right)^{2} + \\left(- X(1) + X(4)\\right)^{2} + \\left(- X(2) + X(5)\\right)^{2}\\right)^{\\frac{3}{2}}} + \\frac{k \\left(- X(0) + X(3)\\right) \\left(X(2) - X(5)\\right)}{L_{0}^{2} \\left(\\left(- X(0) + X(3)\\right)^{2} + \\left(- X(1) + X(4)\\right)^{2} + \\left(- X(2) + X(5)\\right)^{2}\\right)} & \\frac{k \\left(- L_{0} + \\sqrt{\\left(- X(0) + X(3)\\right)^{2} + \\left(- X(1) + X(4)\\right)^{2} + \\left(- X(2) + X(5)\\right)^{2}}\\right) \\left(X(1) - X(4)\\right) \\left(X(2) - X(5)\\right)}{L_{0}^{2} \\left(\\left(- X(0) + X(3)\\right)^{2} + \\left(- X(1) + X(4)\\right)^{2} + \\left(- X(2) + X(5)\\right)^{2}\\right)^{\\frac{3}{2}}} + \\frac{k \\left(- X(1) + X(4)\\right) \\left(X(2) - X(5)\\right)}{L_{0}^{2} \\left(\\left(- X(0) + X(3)\\right)^{2} + \\left(- X(1) + X(4)\\right)^{2} + \\left(- X(2) + X(5)\\right)^{2}\\right)} & \\frac{k \\left(- L_{0} + \\sqrt{\\left(- X(0) + X(3)\\right)^{2} + \\left(- X(1) + X(4)\\right)^{2} + \\left(- X(2) + X(5)\\right)^{2}}\\right) \\left(X(2) - X(5)\\right)^{2}}{L_{0}^{2} \\left(\\left(- X(0) + X(3)\\right)^{2} + \\left(- X(1) + X(4)\\right)^{2} + \\left(- X(2) + X(5)\\right)^{2}\\right)^{\\frac{3}{2}}} - \\frac{k \\left(- L_{0} + \\sqrt{\\left(- X(0) + X(3)\\right)^{2} + \\left(- X(1) + X(4)\\right)^{2} + \\left(- X(2) + X(5)\\right)^{2}}\\right)}{L_{0}^{2} \\sqrt{\\left(- X(0) + X(3)\\right)^{2} + \\left(- X(1) + X(4)\\right)^{2} + \\left(- X(2) + X(5)\\right)^{2}}} + \\frac{k \\left(- X(2) + X(5)\\right) \\left(X(2) - X(5)\\right)}{L_{0}^{2} \\left(\\left(- X(0) + X(3)\\right)^{2} + \\left(- X(1) + X(4)\\right)^{2} + \\left(- X(2) + X(5)\\right)^{2}\\right)}\\\\\\frac{k \\left(- L_{0} + \\sqrt{\\left(- X(0) + X(3)\\right)^{2} + \\left(- X(1) + X(4)\\right)^{2} + \\left(- X(2) + X(5)\\right)^{2}}\\right) \\left(- X(0) + X(3)\\right)^{2}}{L_{0}^{2} \\left(\\left(- X(0) + X(3)\\right)^{2} + \\left(- X(1) + X(4)\\right)^{2} + \\left(- X(2) + X(5)\\right)^{2}\\right)^{\\frac{3}{2}}} - \\frac{k \\left(- L_{0} + \\sqrt{\\left(- X(0) + X(3)\\right)^{2} + \\left(- X(1) + X(4)\\right)^{2} + \\left(- X(2) + X(5)\\right)^{2}}\\right)}{L_{0}^{2} \\sqrt{\\left(- X(0) + X(3)\\right)^{2} + \\left(- X(1) + X(4)\\right)^{2} + \\left(- X(2) + X(5)\\right)^{2}}} + \\frac{k \\left(- X(0) + X(3)\\right) \\left(X(0) - X(3)\\right)}{L_{0}^{2} \\left(\\left(- X(0) + X(3)\\right)^{2} + \\left(- X(1) + X(4)\\right)^{2} + \\left(- X(2) + X(5)\\right)^{2}\\right)} & \\frac{k \\left(- L_{0} + \\sqrt{\\left(- X(0) + X(3)\\right)^{2} + \\left(- X(1) + X(4)\\right)^{2} + \\left(- X(2) + X(5)\\right)^{2}}\\right) \\left(- X(0) + X(3)\\right) \\left(- X(1) + X(4)\\right)}{L_{0}^{2} \\left(\\left(- X(0) + X(3)\\right)^{2} + \\left(- X(1) + X(4)\\right)^{2} + \\left(- X(2) + X(5)\\right)^{2}\\right)^{\\frac{3}{2}}} + \\frac{k \\left(- X(0) + X(3)\\right) \\left(X(1) - X(4)\\right)}{L_{0}^{2} \\left(\\left(- X(0) + X(3)\\right)^{2} + \\left(- X(1) + X(4)\\right)^{2} + \\left(- X(2) + X(5)\\right)^{2}\\right)} & \\frac{k \\left(- L_{0} + \\sqrt{\\left(- X(0) + X(3)\\right)^{2} + \\left(- X(1) + X(4)\\right)^{2} + \\left(- X(2) + X(5)\\right)^{2}}\\right) \\left(- X(0) + X(3)\\right) \\left(- X(2) + X(5)\\right)}{L_{0}^{2} \\left(\\left(- X(0) + X(3)\\right)^{2} + \\left(- X(1) + X(4)\\right)^{2} + \\left(- X(2) + X(5)\\right)^{2}\\right)^{\\frac{3}{2}}} + \\frac{k \\left(- X(0) + X(3)\\right) \\left(X(2) - X(5)\\right)}{L_{0}^{2} \\left(\\left(- X(0) + X(3)\\right)^{2} + \\left(- X(1) + X(4)\\right)^{2} + \\left(- X(2) + X(5)\\right)^{2}\\right)} & \\frac{k \\left(- L_{0} + \\sqrt{\\left(- X(0) + X(3)\\right)^{2} + \\left(- X(1) + X(4)\\right)^{2} + \\left(- X(2) + X(5)\\right)^{2}}\\right) \\left(- X(0) + X(3)\\right) \\left(X(0) - X(3)\\right)}{L_{0}^{2} \\left(\\left(- X(0) + X(3)\\right)^{2} + \\left(- X(1) + X(4)\\right)^{2} + \\left(- X(2) + X(5)\\right)^{2}\\right)^{\\frac{3}{2}}} + \\frac{k \\left(- L_{0} + \\sqrt{\\left(- X(0) + X(3)\\right)^{2} + \\left(- X(1) + X(4)\\right)^{2} + \\left(- X(2) + X(5)\\right)^{2}}\\right)}{L_{0}^{2} \\sqrt{\\left(- X(0) + X(3)\\right)^{2} + \\left(- X(1) + X(4)\\right)^{2} + \\left(- X(2) + X(5)\\right)^{2}}} + \\frac{k \\left(- X(0) + X(3)\\right)^{2}}{L_{0}^{2} \\left(\\left(- X(0) + X(3)\\right)^{2} + \\left(- X(1) + X(4)\\right)^{2} + \\left(- X(2) + X(5)\\right)^{2}\\right)} & \\frac{k \\left(- L_{0} + \\sqrt{\\left(- X(0) + X(3)\\right)^{2} + \\left(- X(1) + X(4)\\right)^{2} + \\left(- X(2) + X(5)\\right)^{2}}\\right) \\left(- X(0) + X(3)\\right) \\left(X(1) - X(4)\\right)}{L_{0}^{2} \\left(\\left(- X(0) + X(3)\\right)^{2} + \\left(- X(1) + X(4)\\right)^{2} + \\left(- X(2) + X(5)\\right)^{2}\\right)^{\\frac{3}{2}}} + \\frac{k \\left(- X(0) + X(3)\\right) \\left(- X(1) + X(4)\\right)}{L_{0}^{2} \\left(\\left(- X(0) + X(3)\\right)^{2} + \\left(- X(1) + X(4)\\right)^{2} + \\left(- X(2) + X(5)\\right)^{2}\\right)} & \\frac{k \\left(- L_{0} + \\sqrt{\\left(- X(0) + X(3)\\right)^{2} + \\left(- X(1) + X(4)\\right)^{2} + \\left(- X(2) + X(5)\\right)^{2}}\\right) \\left(- X(0) + X(3)\\right) \\left(X(2) - X(5)\\right)}{L_{0}^{2} \\left(\\left(- X(0) + X(3)\\right)^{2} + \\left(- X(1) + X(4)\\right)^{2} + \\left(- X(2) + X(5)\\right)^{2}\\right)^{\\frac{3}{2}}} + \\frac{k \\left(- X(0) + X(3)\\right) \\left(- X(2) + X(5)\\right)}{L_{0}^{2} \\left(\\left(- X(0) + X(3)\\right)^{2} + \\left(- X(1) + X(4)\\right)^{2} + \\left(- X(2) + X(5)\\right)^{2}\\right)}\\\\\\frac{k \\left(- L_{0} + \\sqrt{\\left(- X(0) + X(3)\\right)^{2} + \\left(- X(1) + X(4)\\right)^{2} + \\left(- X(2) + X(5)\\right)^{2}}\\right) \\left(- X(0) + X(3)\\right) \\left(- X(1) + X(4)\\right)}{L_{0}^{2} \\left(\\left(- X(0) + X(3)\\right)^{2} + \\left(- X(1) + X(4)\\right)^{2} + \\left(- X(2) + X(5)\\right)^{2}\\right)^{\\frac{3}{2}}} + \\frac{k \\left(X(0) - X(3)\\right) \\left(- X(1) + X(4)\\right)}{L_{0}^{2} \\left(\\left(- X(0) + X(3)\\right)^{2} + \\left(- X(1) + X(4)\\right)^{2} + \\left(- X(2) + X(5)\\right)^{2}\\right)} & \\frac{k \\left(- L_{0} + \\sqrt{\\left(- X(0) + X(3)\\right)^{2} + \\left(- X(1) + X(4)\\right)^{2} + \\left(- X(2) + X(5)\\right)^{2}}\\right) \\left(- X(1) + X(4)\\right)^{2}}{L_{0}^{2} \\left(\\left(- X(0) + X(3)\\right)^{2} + \\left(- X(1) + X(4)\\right)^{2} + \\left(- X(2) + X(5)\\right)^{2}\\right)^{\\frac{3}{2}}} - \\frac{k \\left(- L_{0} + \\sqrt{\\left(- X(0) + X(3)\\right)^{2} + \\left(- X(1) + X(4)\\right)^{2} + \\left(- X(2) + X(5)\\right)^{2}}\\right)}{L_{0}^{2} \\sqrt{\\left(- X(0) + X(3)\\right)^{2} + \\left(- X(1) + X(4)\\right)^{2} + \\left(- X(2) + X(5)\\right)^{2}}} + \\frac{k \\left(- X(1) + X(4)\\right) \\left(X(1) - X(4)\\right)}{L_{0}^{2} \\left(\\left(- X(0) + X(3)\\right)^{2} + \\left(- X(1) + X(4)\\right)^{2} + \\left(- X(2) + X(5)\\right)^{2}\\right)} & \\frac{k \\left(- L_{0} + \\sqrt{\\left(- X(0) + X(3)\\right)^{2} + \\left(- X(1) + X(4)\\right)^{2} + \\left(- X(2) + X(5)\\right)^{2}}\\right) \\left(- X(1) + X(4)\\right) \\left(- X(2) + X(5)\\right)}{L_{0}^{2} \\left(\\left(- X(0) + X(3)\\right)^{2} + \\left(- X(1) + X(4)\\right)^{2} + \\left(- X(2) + X(5)\\right)^{2}\\right)^{\\frac{3}{2}}} + \\frac{k \\left(- X(1) + X(4)\\right) \\left(X(2) - X(5)\\right)}{L_{0}^{2} \\left(\\left(- X(0) + X(3)\\right)^{2} + \\left(- X(1) + X(4)\\right)^{2} + \\left(- X(2) + X(5)\\right)^{2}\\right)} & \\frac{k \\left(- L_{0} + \\sqrt{\\left(- X(0) + X(3)\\right)^{2} + \\left(- X(1) + X(4)\\right)^{2} + \\left(- X(2) + X(5)\\right)^{2}}\\right) \\left(X(0) - X(3)\\right) \\left(- X(1) + X(4)\\right)}{L_{0}^{2} \\left(\\left(- X(0) + X(3)\\right)^{2} + \\left(- X(1) + X(4)\\right)^{2} + \\left(- X(2) + X(5)\\right)^{2}\\right)^{\\frac{3}{2}}} + \\frac{k \\left(- X(0) + X(3)\\right) \\left(- X(1) + X(4)\\right)}{L_{0}^{2} \\left(\\left(- X(0) + X(3)\\right)^{2} + \\left(- X(1) + X(4)\\right)^{2} + \\left(- X(2) + X(5)\\right)^{2}\\right)} & \\frac{k \\left(- L_{0} + \\sqrt{\\left(- X(0) + X(3)\\right)^{2} + \\left(- X(1) + X(4)\\right)^{2} + \\left(- X(2) + X(5)\\right)^{2}}\\right) \\left(- X(1) + X(4)\\right) \\left(X(1) - X(4)\\right)}{L_{0}^{2} \\left(\\left(- X(0) + X(3)\\right)^{2} + \\left(- X(1) + X(4)\\right)^{2} + \\left(- X(2) + X(5)\\right)^{2}\\right)^{\\frac{3}{2}}} + \\frac{k \\left(- L_{0} + \\sqrt{\\left(- X(0) + X(3)\\right)^{2} + \\left(- X(1) + X(4)\\right)^{2} + \\left(- X(2) + X(5)\\right)^{2}}\\right)}{L_{0}^{2} \\sqrt{\\left(- X(0) + X(3)\\right)^{2} + \\left(- X(1) + X(4)\\right)^{2} + \\left(- X(2) + X(5)\\right)^{2}}} + \\frac{k \\left(- X(1) + X(4)\\right)^{2}}{L_{0}^{2} \\left(\\left(- X(0) + X(3)\\right)^{2} + \\left(- X(1) + X(4)\\right)^{2} + \\left(- X(2) + X(5)\\right)^{2}\\right)} & \\frac{k \\left(- L_{0} + \\sqrt{\\left(- X(0) + X(3)\\right)^{2} + \\left(- X(1) + X(4)\\right)^{2} + \\left(- X(2) + X(5)\\right)^{2}}\\right) \\left(- X(1) + X(4)\\right) \\left(X(2) - X(5)\\right)}{L_{0}^{2} \\left(\\left(- X(0) + X(3)\\right)^{2} + \\left(- X(1) + X(4)\\right)^{2} + \\left(- X(2) + X(5)\\right)^{2}\\right)^{\\frac{3}{2}}} + \\frac{k \\left(- X(1) + X(4)\\right) \\left(- X(2) + X(5)\\right)}{L_{0}^{2} \\left(\\left(- X(0) + X(3)\\right)^{2} + \\left(- X(1) + X(4)\\right)^{2} + \\left(- X(2) + X(5)\\right)^{2}\\right)}\\\\\\frac{k \\left(- L_{0} + \\sqrt{\\left(- X(0) + X(3)\\right)^{2} + \\left(- X(1) + X(4)\\right)^{2} + \\left(- X(2) + X(5)\\right)^{2}}\\right) \\left(- X(0) + X(3)\\right) \\left(- X(2) + X(5)\\right)}{L_{0}^{2} \\left(\\left(- X(0) + X(3)\\right)^{2} + \\left(- X(1) + X(4)\\right)^{2} + \\left(- X(2) + X(5)\\right)^{2}\\right)^{\\frac{3}{2}}} + \\frac{k \\left(X(0) - X(3)\\right) \\left(- X(2) + X(5)\\right)}{L_{0}^{2} \\left(\\left(- X(0) + X(3)\\right)^{2} + \\left(- X(1) + X(4)\\right)^{2} + \\left(- X(2) + X(5)\\right)^{2}\\right)} & \\frac{k \\left(- L_{0} + \\sqrt{\\left(- X(0) + X(3)\\right)^{2} + \\left(- X(1) + X(4)\\right)^{2} + \\left(- X(2) + X(5)\\right)^{2}}\\right) \\left(- X(1) + X(4)\\right) \\left(- X(2) + X(5)\\right)}{L_{0}^{2} \\left(\\left(- X(0) + X(3)\\right)^{2} + \\left(- X(1) + X(4)\\right)^{2} + \\left(- X(2) + X(5)\\right)^{2}\\right)^{\\frac{3}{2}}} + \\frac{k \\left(X(1) - X(4)\\right) \\left(- X(2) + X(5)\\right)}{L_{0}^{2} \\left(\\left(- X(0) + X(3)\\right)^{2} + \\left(- X(1) + X(4)\\right)^{2} + \\left(- X(2) + X(5)\\right)^{2}\\right)} & \\frac{k \\left(- L_{0} + \\sqrt{\\left(- X(0) + X(3)\\right)^{2} + \\left(- X(1) + X(4)\\right)^{2} + \\left(- X(2) + X(5)\\right)^{2}}\\right) \\left(- X(2) + X(5)\\right)^{2}}{L_{0}^{2} \\left(\\left(- X(0) + X(3)\\right)^{2} + \\left(- X(1) + X(4)\\right)^{2} + \\left(- X(2) + X(5)\\right)^{2}\\right)^{\\frac{3}{2}}} - \\frac{k \\left(- L_{0} + \\sqrt{\\left(- X(0) + X(3)\\right)^{2} + \\left(- X(1) + X(4)\\right)^{2} + \\left(- X(2) + X(5)\\right)^{2}}\\right)}{L_{0}^{2} \\sqrt{\\left(- X(0) + X(3)\\right)^{2} + \\left(- X(1) + X(4)\\right)^{2} + \\left(- X(2) + X(5)\\right)^{2}}} + \\frac{k \\left(- X(2) + X(5)\\right) \\left(X(2) - X(5)\\right)}{L_{0}^{2} \\left(\\left(- X(0) + X(3)\\right)^{2} + \\left(- X(1) + X(4)\\right)^{2} + \\left(- X(2) + X(5)\\right)^{2}\\right)} & \\frac{k \\left(- L_{0} + \\sqrt{\\left(- X(0) + X(3)\\right)^{2} + \\left(- X(1) + X(4)\\right)^{2} + \\left(- X(2) + X(5)\\right)^{2}}\\right) \\left(X(0) - X(3)\\right) \\left(- X(2) + X(5)\\right)}{L_{0}^{2} \\left(\\left(- X(0) + X(3)\\right)^{2} + \\left(- X(1) + X(4)\\right)^{2} + \\left(- X(2) + X(5)\\right)^{2}\\right)^{\\frac{3}{2}}} + \\frac{k \\left(- X(0) + X(3)\\right) \\left(- X(2) + X(5)\\right)}{L_{0}^{2} \\left(\\left(- X(0) + X(3)\\right)^{2} + \\left(- X(1) + X(4)\\right)^{2} + \\left(- X(2) + X(5)\\right)^{2}\\right)} & \\frac{k \\left(- L_{0} + \\sqrt{\\left(- X(0) + X(3)\\right)^{2} + \\left(- X(1) + X(4)\\right)^{2} + \\left(- X(2) + X(5)\\right)^{2}}\\right) \\left(X(1) - X(4)\\right) \\left(- X(2) + X(5)\\right)}{L_{0}^{2} \\left(\\left(- X(0) + X(3)\\right)^{2} + \\left(- X(1) + X(4)\\right)^{2} + \\left(- X(2) + X(5)\\right)^{2}\\right)^{\\frac{3}{2}}} + \\frac{k \\left(- X(1) + X(4)\\right) \\left(- X(2) + X(5)\\right)}{L_{0}^{2} \\left(\\left(- X(0) + X(3)\\right)^{2} + \\left(- X(1) + X(4)\\right)^{2} + \\left(- X(2) + X(5)\\right)^{2}\\right)} & \\frac{k \\left(- L_{0} + \\sqrt{\\left(- X(0) + X(3)\\right)^{2} + \\left(- X(1) + X(4)\\right)^{2} + \\left(- X(2) + X(5)\\right)^{2}}\\right) \\left(- X(2) + X(5)\\right) \\left(X(2) - X(5)\\right)}{L_{0}^{2} \\left(\\left(- X(0) + X(3)\\right)^{2} + \\left(- X(1) + X(4)\\right)^{2} + \\left(- X(2) + X(5)\\right)^{2}\\right)^{\\frac{3}{2}}} + \\frac{k \\left(- L_{0} + \\sqrt{\\left(- X(0) + X(3)\\right)^{2} + \\left(- X(1) + X(4)\\right)^{2} + \\left(- X(2) + X(5)\\right)^{2}}\\right)}{L_{0}^{2} \\sqrt{\\left(- X(0) + X(3)\\right)^{2} + \\left(- X(1) + X(4)\\right)^{2} + \\left(- X(2) + X(5)\\right)^{2}}} + \\frac{k \\left(- X(2) + X(5)\\right)^{2}}{L_{0}^{2} \\left(\\left(- X(0) + X(3)\\right)^{2} + \\left(- X(1) + X(4)\\right)^{2} + \\left(- X(2) + X(5)\\right)^{2}\\right)}\\end{matrix}\\right]$"
      ],
      "text/plain": [
       "Matrix([\n",
       "[ k*(-L0 + sqrt((-X(0) + X(3))**2 + (-X(1) + X(4))**2 + (-X(2) + X(5))**2))*(-X(0) + X(3))*(X(0) - X(3))/(L0**2*((-X(0) + X(3))**2 + (-X(1) + X(4))**2 + (-X(2) + X(5))**2)**(3/2)) + k*(-L0 + sqrt((-X(0) + X(3))**2 + (-X(1) + X(4))**2 + (-X(2) + X(5))**2))/(L0**2*sqrt((-X(0) + X(3))**2 + (-X(1) + X(4))**2 + (-X(2) + X(5))**2)) + k*(X(0) - X(3))**2/(L0**2*((-X(0) + X(3))**2 + (-X(1) + X(4))**2 + (-X(2) + X(5))**2)),                                                                                                                                           k*(-L0 + sqrt((-X(0) + X(3))**2 + (-X(1) + X(4))**2 + (-X(2) + X(5))**2))*(X(0) - X(3))*(-X(1) + X(4))/(L0**2*((-X(0) + X(3))**2 + (-X(1) + X(4))**2 + (-X(2) + X(5))**2)**(3/2)) + k*(X(0) - X(3))*(X(1) - X(4))/(L0**2*((-X(0) + X(3))**2 + (-X(1) + X(4))**2 + (-X(2) + X(5))**2)),                                                                                                                                           k*(-L0 + sqrt((-X(0) + X(3))**2 + (-X(1) + X(4))**2 + (-X(2) + X(5))**2))*(X(0) - X(3))*(-X(2) + X(5))/(L0**2*((-X(0) + X(3))**2 + (-X(1) + X(4))**2 + (-X(2) + X(5))**2)**(3/2)) + k*(X(0) - X(3))*(X(2) - X(5))/(L0**2*((-X(0) + X(3))**2 + (-X(1) + X(4))**2 + (-X(2) + X(5))**2)),  k*(-L0 + sqrt((-X(0) + X(3))**2 + (-X(1) + X(4))**2 + (-X(2) + X(5))**2))*(X(0) - X(3))**2/(L0**2*((-X(0) + X(3))**2 + (-X(1) + X(4))**2 + (-X(2) + X(5))**2)**(3/2)) - k*(-L0 + sqrt((-X(0) + X(3))**2 + (-X(1) + X(4))**2 + (-X(2) + X(5))**2))/(L0**2*sqrt((-X(0) + X(3))**2 + (-X(1) + X(4))**2 + (-X(2) + X(5))**2)) + k*(-X(0) + X(3))*(X(0) - X(3))/(L0**2*((-X(0) + X(3))**2 + (-X(1) + X(4))**2 + (-X(2) + X(5))**2)),                                                                                                                                           k*(-L0 + sqrt((-X(0) + X(3))**2 + (-X(1) + X(4))**2 + (-X(2) + X(5))**2))*(X(0) - X(3))*(X(1) - X(4))/(L0**2*((-X(0) + X(3))**2 + (-X(1) + X(4))**2 + (-X(2) + X(5))**2)**(3/2)) + k*(X(0) - X(3))*(-X(1) + X(4))/(L0**2*((-X(0) + X(3))**2 + (-X(1) + X(4))**2 + (-X(2) + X(5))**2)),                                                                                                                                           k*(-L0 + sqrt((-X(0) + X(3))**2 + (-X(1) + X(4))**2 + (-X(2) + X(5))**2))*(X(0) - X(3))*(X(2) - X(5))/(L0**2*((-X(0) + X(3))**2 + (-X(1) + X(4))**2 + (-X(2) + X(5))**2)**(3/2)) + k*(X(0) - X(3))*(-X(2) + X(5))/(L0**2*((-X(0) + X(3))**2 + (-X(1) + X(4))**2 + (-X(2) + X(5))**2))],\n",
       "[                                                                                                                                          k*(-L0 + sqrt((-X(0) + X(3))**2 + (-X(1) + X(4))**2 + (-X(2) + X(5))**2))*(-X(0) + X(3))*(X(1) - X(4))/(L0**2*((-X(0) + X(3))**2 + (-X(1) + X(4))**2 + (-X(2) + X(5))**2)**(3/2)) + k*(X(0) - X(3))*(X(1) - X(4))/(L0**2*((-X(0) + X(3))**2 + (-X(1) + X(4))**2 + (-X(2) + X(5))**2)),  k*(-L0 + sqrt((-X(0) + X(3))**2 + (-X(1) + X(4))**2 + (-X(2) + X(5))**2))*(-X(1) + X(4))*(X(1) - X(4))/(L0**2*((-X(0) + X(3))**2 + (-X(1) + X(4))**2 + (-X(2) + X(5))**2)**(3/2)) + k*(-L0 + sqrt((-X(0) + X(3))**2 + (-X(1) + X(4))**2 + (-X(2) + X(5))**2))/(L0**2*sqrt((-X(0) + X(3))**2 + (-X(1) + X(4))**2 + (-X(2) + X(5))**2)) + k*(X(1) - X(4))**2/(L0**2*((-X(0) + X(3))**2 + (-X(1) + X(4))**2 + (-X(2) + X(5))**2)),                                                                                                                                           k*(-L0 + sqrt((-X(0) + X(3))**2 + (-X(1) + X(4))**2 + (-X(2) + X(5))**2))*(X(1) - X(4))*(-X(2) + X(5))/(L0**2*((-X(0) + X(3))**2 + (-X(1) + X(4))**2 + (-X(2) + X(5))**2)**(3/2)) + k*(X(1) - X(4))*(X(2) - X(5))/(L0**2*((-X(0) + X(3))**2 + (-X(1) + X(4))**2 + (-X(2) + X(5))**2)),                                                                                                                                           k*(-L0 + sqrt((-X(0) + X(3))**2 + (-X(1) + X(4))**2 + (-X(2) + X(5))**2))*(X(0) - X(3))*(X(1) - X(4))/(L0**2*((-X(0) + X(3))**2 + (-X(1) + X(4))**2 + (-X(2) + X(5))**2)**(3/2)) + k*(-X(0) + X(3))*(X(1) - X(4))/(L0**2*((-X(0) + X(3))**2 + (-X(1) + X(4))**2 + (-X(2) + X(5))**2)),  k*(-L0 + sqrt((-X(0) + X(3))**2 + (-X(1) + X(4))**2 + (-X(2) + X(5))**2))*(X(1) - X(4))**2/(L0**2*((-X(0) + X(3))**2 + (-X(1) + X(4))**2 + (-X(2) + X(5))**2)**(3/2)) - k*(-L0 + sqrt((-X(0) + X(3))**2 + (-X(1) + X(4))**2 + (-X(2) + X(5))**2))/(L0**2*sqrt((-X(0) + X(3))**2 + (-X(1) + X(4))**2 + (-X(2) + X(5))**2)) + k*(-X(1) + X(4))*(X(1) - X(4))/(L0**2*((-X(0) + X(3))**2 + (-X(1) + X(4))**2 + (-X(2) + X(5))**2)),                                                                                                                                           k*(-L0 + sqrt((-X(0) + X(3))**2 + (-X(1) + X(4))**2 + (-X(2) + X(5))**2))*(X(1) - X(4))*(X(2) - X(5))/(L0**2*((-X(0) + X(3))**2 + (-X(1) + X(4))**2 + (-X(2) + X(5))**2)**(3/2)) + k*(X(1) - X(4))*(-X(2) + X(5))/(L0**2*((-X(0) + X(3))**2 + (-X(1) + X(4))**2 + (-X(2) + X(5))**2))],\n",
       "[                                                                                                                                          k*(-L0 + sqrt((-X(0) + X(3))**2 + (-X(1) + X(4))**2 + (-X(2) + X(5))**2))*(-X(0) + X(3))*(X(2) - X(5))/(L0**2*((-X(0) + X(3))**2 + (-X(1) + X(4))**2 + (-X(2) + X(5))**2)**(3/2)) + k*(X(0) - X(3))*(X(2) - X(5))/(L0**2*((-X(0) + X(3))**2 + (-X(1) + X(4))**2 + (-X(2) + X(5))**2)),                                                                                                                                           k*(-L0 + sqrt((-X(0) + X(3))**2 + (-X(1) + X(4))**2 + (-X(2) + X(5))**2))*(-X(1) + X(4))*(X(2) - X(5))/(L0**2*((-X(0) + X(3))**2 + (-X(1) + X(4))**2 + (-X(2) + X(5))**2)**(3/2)) + k*(X(1) - X(4))*(X(2) - X(5))/(L0**2*((-X(0) + X(3))**2 + (-X(1) + X(4))**2 + (-X(2) + X(5))**2)),  k*(-L0 + sqrt((-X(0) + X(3))**2 + (-X(1) + X(4))**2 + (-X(2) + X(5))**2))*(-X(2) + X(5))*(X(2) - X(5))/(L0**2*((-X(0) + X(3))**2 + (-X(1) + X(4))**2 + (-X(2) + X(5))**2)**(3/2)) + k*(-L0 + sqrt((-X(0) + X(3))**2 + (-X(1) + X(4))**2 + (-X(2) + X(5))**2))/(L0**2*sqrt((-X(0) + X(3))**2 + (-X(1) + X(4))**2 + (-X(2) + X(5))**2)) + k*(X(2) - X(5))**2/(L0**2*((-X(0) + X(3))**2 + (-X(1) + X(4))**2 + (-X(2) + X(5))**2)),                                                                                                                                           k*(-L0 + sqrt((-X(0) + X(3))**2 + (-X(1) + X(4))**2 + (-X(2) + X(5))**2))*(X(0) - X(3))*(X(2) - X(5))/(L0**2*((-X(0) + X(3))**2 + (-X(1) + X(4))**2 + (-X(2) + X(5))**2)**(3/2)) + k*(-X(0) + X(3))*(X(2) - X(5))/(L0**2*((-X(0) + X(3))**2 + (-X(1) + X(4))**2 + (-X(2) + X(5))**2)),                                                                                                                                           k*(-L0 + sqrt((-X(0) + X(3))**2 + (-X(1) + X(4))**2 + (-X(2) + X(5))**2))*(X(1) - X(4))*(X(2) - X(5))/(L0**2*((-X(0) + X(3))**2 + (-X(1) + X(4))**2 + (-X(2) + X(5))**2)**(3/2)) + k*(-X(1) + X(4))*(X(2) - X(5))/(L0**2*((-X(0) + X(3))**2 + (-X(1) + X(4))**2 + (-X(2) + X(5))**2)),  k*(-L0 + sqrt((-X(0) + X(3))**2 + (-X(1) + X(4))**2 + (-X(2) + X(5))**2))*(X(2) - X(5))**2/(L0**2*((-X(0) + X(3))**2 + (-X(1) + X(4))**2 + (-X(2) + X(5))**2)**(3/2)) - k*(-L0 + sqrt((-X(0) + X(3))**2 + (-X(1) + X(4))**2 + (-X(2) + X(5))**2))/(L0**2*sqrt((-X(0) + X(3))**2 + (-X(1) + X(4))**2 + (-X(2) + X(5))**2)) + k*(-X(2) + X(5))*(X(2) - X(5))/(L0**2*((-X(0) + X(3))**2 + (-X(1) + X(4))**2 + (-X(2) + X(5))**2))],\n",
       "[k*(-L0 + sqrt((-X(0) + X(3))**2 + (-X(1) + X(4))**2 + (-X(2) + X(5))**2))*(-X(0) + X(3))**2/(L0**2*((-X(0) + X(3))**2 + (-X(1) + X(4))**2 + (-X(2) + X(5))**2)**(3/2)) - k*(-L0 + sqrt((-X(0) + X(3))**2 + (-X(1) + X(4))**2 + (-X(2) + X(5))**2))/(L0**2*sqrt((-X(0) + X(3))**2 + (-X(1) + X(4))**2 + (-X(2) + X(5))**2)) + k*(-X(0) + X(3))*(X(0) - X(3))/(L0**2*((-X(0) + X(3))**2 + (-X(1) + X(4))**2 + (-X(2) + X(5))**2)),                                                                                                                                         k*(-L0 + sqrt((-X(0) + X(3))**2 + (-X(1) + X(4))**2 + (-X(2) + X(5))**2))*(-X(0) + X(3))*(-X(1) + X(4))/(L0**2*((-X(0) + X(3))**2 + (-X(1) + X(4))**2 + (-X(2) + X(5))**2)**(3/2)) + k*(-X(0) + X(3))*(X(1) - X(4))/(L0**2*((-X(0) + X(3))**2 + (-X(1) + X(4))**2 + (-X(2) + X(5))**2)),                                                                                                                                         k*(-L0 + sqrt((-X(0) + X(3))**2 + (-X(1) + X(4))**2 + (-X(2) + X(5))**2))*(-X(0) + X(3))*(-X(2) + X(5))/(L0**2*((-X(0) + X(3))**2 + (-X(1) + X(4))**2 + (-X(2) + X(5))**2)**(3/2)) + k*(-X(0) + X(3))*(X(2) - X(5))/(L0**2*((-X(0) + X(3))**2 + (-X(1) + X(4))**2 + (-X(2) + X(5))**2)), k*(-L0 + sqrt((-X(0) + X(3))**2 + (-X(1) + X(4))**2 + (-X(2) + X(5))**2))*(-X(0) + X(3))*(X(0) - X(3))/(L0**2*((-X(0) + X(3))**2 + (-X(1) + X(4))**2 + (-X(2) + X(5))**2)**(3/2)) + k*(-L0 + sqrt((-X(0) + X(3))**2 + (-X(1) + X(4))**2 + (-X(2) + X(5))**2))/(L0**2*sqrt((-X(0) + X(3))**2 + (-X(1) + X(4))**2 + (-X(2) + X(5))**2)) + k*(-X(0) + X(3))**2/(L0**2*((-X(0) + X(3))**2 + (-X(1) + X(4))**2 + (-X(2) + X(5))**2)),                                                                                                                                         k*(-L0 + sqrt((-X(0) + X(3))**2 + (-X(1) + X(4))**2 + (-X(2) + X(5))**2))*(-X(0) + X(3))*(X(1) - X(4))/(L0**2*((-X(0) + X(3))**2 + (-X(1) + X(4))**2 + (-X(2) + X(5))**2)**(3/2)) + k*(-X(0) + X(3))*(-X(1) + X(4))/(L0**2*((-X(0) + X(3))**2 + (-X(1) + X(4))**2 + (-X(2) + X(5))**2)),                                                                                                                                         k*(-L0 + sqrt((-X(0) + X(3))**2 + (-X(1) + X(4))**2 + (-X(2) + X(5))**2))*(-X(0) + X(3))*(X(2) - X(5))/(L0**2*((-X(0) + X(3))**2 + (-X(1) + X(4))**2 + (-X(2) + X(5))**2)**(3/2)) + k*(-X(0) + X(3))*(-X(2) + X(5))/(L0**2*((-X(0) + X(3))**2 + (-X(1) + X(4))**2 + (-X(2) + X(5))**2))],\n",
       "[                                                                                                                                        k*(-L0 + sqrt((-X(0) + X(3))**2 + (-X(1) + X(4))**2 + (-X(2) + X(5))**2))*(-X(0) + X(3))*(-X(1) + X(4))/(L0**2*((-X(0) + X(3))**2 + (-X(1) + X(4))**2 + (-X(2) + X(5))**2)**(3/2)) + k*(X(0) - X(3))*(-X(1) + X(4))/(L0**2*((-X(0) + X(3))**2 + (-X(1) + X(4))**2 + (-X(2) + X(5))**2)), k*(-L0 + sqrt((-X(0) + X(3))**2 + (-X(1) + X(4))**2 + (-X(2) + X(5))**2))*(-X(1) + X(4))**2/(L0**2*((-X(0) + X(3))**2 + (-X(1) + X(4))**2 + (-X(2) + X(5))**2)**(3/2)) - k*(-L0 + sqrt((-X(0) + X(3))**2 + (-X(1) + X(4))**2 + (-X(2) + X(5))**2))/(L0**2*sqrt((-X(0) + X(3))**2 + (-X(1) + X(4))**2 + (-X(2) + X(5))**2)) + k*(-X(1) + X(4))*(X(1) - X(4))/(L0**2*((-X(0) + X(3))**2 + (-X(1) + X(4))**2 + (-X(2) + X(5))**2)),                                                                                                                                         k*(-L0 + sqrt((-X(0) + X(3))**2 + (-X(1) + X(4))**2 + (-X(2) + X(5))**2))*(-X(1) + X(4))*(-X(2) + X(5))/(L0**2*((-X(0) + X(3))**2 + (-X(1) + X(4))**2 + (-X(2) + X(5))**2)**(3/2)) + k*(-X(1) + X(4))*(X(2) - X(5))/(L0**2*((-X(0) + X(3))**2 + (-X(1) + X(4))**2 + (-X(2) + X(5))**2)),                                                                                                                                         k*(-L0 + sqrt((-X(0) + X(3))**2 + (-X(1) + X(4))**2 + (-X(2) + X(5))**2))*(X(0) - X(3))*(-X(1) + X(4))/(L0**2*((-X(0) + X(3))**2 + (-X(1) + X(4))**2 + (-X(2) + X(5))**2)**(3/2)) + k*(-X(0) + X(3))*(-X(1) + X(4))/(L0**2*((-X(0) + X(3))**2 + (-X(1) + X(4))**2 + (-X(2) + X(5))**2)), k*(-L0 + sqrt((-X(0) + X(3))**2 + (-X(1) + X(4))**2 + (-X(2) + X(5))**2))*(-X(1) + X(4))*(X(1) - X(4))/(L0**2*((-X(0) + X(3))**2 + (-X(1) + X(4))**2 + (-X(2) + X(5))**2)**(3/2)) + k*(-L0 + sqrt((-X(0) + X(3))**2 + (-X(1) + X(4))**2 + (-X(2) + X(5))**2))/(L0**2*sqrt((-X(0) + X(3))**2 + (-X(1) + X(4))**2 + (-X(2) + X(5))**2)) + k*(-X(1) + X(4))**2/(L0**2*((-X(0) + X(3))**2 + (-X(1) + X(4))**2 + (-X(2) + X(5))**2)),                                                                                                                                         k*(-L0 + sqrt((-X(0) + X(3))**2 + (-X(1) + X(4))**2 + (-X(2) + X(5))**2))*(-X(1) + X(4))*(X(2) - X(5))/(L0**2*((-X(0) + X(3))**2 + (-X(1) + X(4))**2 + (-X(2) + X(5))**2)**(3/2)) + k*(-X(1) + X(4))*(-X(2) + X(5))/(L0**2*((-X(0) + X(3))**2 + (-X(1) + X(4))**2 + (-X(2) + X(5))**2))],\n",
       "[                                                                                                                                        k*(-L0 + sqrt((-X(0) + X(3))**2 + (-X(1) + X(4))**2 + (-X(2) + X(5))**2))*(-X(0) + X(3))*(-X(2) + X(5))/(L0**2*((-X(0) + X(3))**2 + (-X(1) + X(4))**2 + (-X(2) + X(5))**2)**(3/2)) + k*(X(0) - X(3))*(-X(2) + X(5))/(L0**2*((-X(0) + X(3))**2 + (-X(1) + X(4))**2 + (-X(2) + X(5))**2)),                                                                                                                                         k*(-L0 + sqrt((-X(0) + X(3))**2 + (-X(1) + X(4))**2 + (-X(2) + X(5))**2))*(-X(1) + X(4))*(-X(2) + X(5))/(L0**2*((-X(0) + X(3))**2 + (-X(1) + X(4))**2 + (-X(2) + X(5))**2)**(3/2)) + k*(X(1) - X(4))*(-X(2) + X(5))/(L0**2*((-X(0) + X(3))**2 + (-X(1) + X(4))**2 + (-X(2) + X(5))**2)), k*(-L0 + sqrt((-X(0) + X(3))**2 + (-X(1) + X(4))**2 + (-X(2) + X(5))**2))*(-X(2) + X(5))**2/(L0**2*((-X(0) + X(3))**2 + (-X(1) + X(4))**2 + (-X(2) + X(5))**2)**(3/2)) - k*(-L0 + sqrt((-X(0) + X(3))**2 + (-X(1) + X(4))**2 + (-X(2) + X(5))**2))/(L0**2*sqrt((-X(0) + X(3))**2 + (-X(1) + X(4))**2 + (-X(2) + X(5))**2)) + k*(-X(2) + X(5))*(X(2) - X(5))/(L0**2*((-X(0) + X(3))**2 + (-X(1) + X(4))**2 + (-X(2) + X(5))**2)),                                                                                                                                         k*(-L0 + sqrt((-X(0) + X(3))**2 + (-X(1) + X(4))**2 + (-X(2) + X(5))**2))*(X(0) - X(3))*(-X(2) + X(5))/(L0**2*((-X(0) + X(3))**2 + (-X(1) + X(4))**2 + (-X(2) + X(5))**2)**(3/2)) + k*(-X(0) + X(3))*(-X(2) + X(5))/(L0**2*((-X(0) + X(3))**2 + (-X(1) + X(4))**2 + (-X(2) + X(5))**2)),                                                                                                                                         k*(-L0 + sqrt((-X(0) + X(3))**2 + (-X(1) + X(4))**2 + (-X(2) + X(5))**2))*(X(1) - X(4))*(-X(2) + X(5))/(L0**2*((-X(0) + X(3))**2 + (-X(1) + X(4))**2 + (-X(2) + X(5))**2)**(3/2)) + k*(-X(1) + X(4))*(-X(2) + X(5))/(L0**2*((-X(0) + X(3))**2 + (-X(1) + X(4))**2 + (-X(2) + X(5))**2)), k*(-L0 + sqrt((-X(0) + X(3))**2 + (-X(1) + X(4))**2 + (-X(2) + X(5))**2))*(-X(2) + X(5))*(X(2) - X(5))/(L0**2*((-X(0) + X(3))**2 + (-X(1) + X(4))**2 + (-X(2) + X(5))**2)**(3/2)) + k*(-L0 + sqrt((-X(0) + X(3))**2 + (-X(1) + X(4))**2 + (-X(2) + X(5))**2))/(L0**2*sqrt((-X(0) + X(3))**2 + (-X(1) + X(4))**2 + (-X(2) + X(5))**2)) + k*(-X(2) + X(5))**2/(L0**2*((-X(0) + X(3))**2 + (-X(1) + X(4))**2 + (-X(2) + X(5))**2))]])"
      ]
     },
     "execution_count": 4,
     "metadata": {},
     "output_type": "execute_result"
    }
   ],
   "source": [
    "ddEddX = VecDiff(dEdX, X)\n",
    "ddEddX"
   ]
  },
  {
   "cell_type": "code",
   "execution_count": 5,
   "metadata": {},
   "outputs": [
    {
     "data": {
      "text/latex": [
       "$\\displaystyle \\left[\\begin{matrix}\\frac{\\left(- L_{0} + \\sqrt{\\left(- X(0) + X(3)\\right)^{2} + \\left(- X(1) + X(4)\\right)^{2} + \\left(- X(2) + X(5)\\right)^{2}}\\right) \\left(X(0) - X(3)\\right)}{L_{0}^{2} \\sqrt{\\left(- X(0) + X(3)\\right)^{2} + \\left(- X(1) + X(4)\\right)^{2} + \\left(- X(2) + X(5)\\right)^{2}}}\\\\\\frac{\\left(- L_{0} + \\sqrt{\\left(- X(0) + X(3)\\right)^{2} + \\left(- X(1) + X(4)\\right)^{2} + \\left(- X(2) + X(5)\\right)^{2}}\\right) \\left(X(1) - X(4)\\right)}{L_{0}^{2} \\sqrt{\\left(- X(0) + X(3)\\right)^{2} + \\left(- X(1) + X(4)\\right)^{2} + \\left(- X(2) + X(5)\\right)^{2}}}\\\\\\frac{\\left(- L_{0} + \\sqrt{\\left(- X(0) + X(3)\\right)^{2} + \\left(- X(1) + X(4)\\right)^{2} + \\left(- X(2) + X(5)\\right)^{2}}\\right) \\left(X(2) - X(5)\\right)}{L_{0}^{2} \\sqrt{\\left(- X(0) + X(3)\\right)^{2} + \\left(- X(1) + X(4)\\right)^{2} + \\left(- X(2) + X(5)\\right)^{2}}}\\\\\\frac{\\left(- L_{0} + \\sqrt{\\left(- X(0) + X(3)\\right)^{2} + \\left(- X(1) + X(4)\\right)^{2} + \\left(- X(2) + X(5)\\right)^{2}}\\right) \\left(- X(0) + X(3)\\right)}{L_{0}^{2} \\sqrt{\\left(- X(0) + X(3)\\right)^{2} + \\left(- X(1) + X(4)\\right)^{2} + \\left(- X(2) + X(5)\\right)^{2}}}\\\\\\frac{\\left(- L_{0} + \\sqrt{\\left(- X(0) + X(3)\\right)^{2} + \\left(- X(1) + X(4)\\right)^{2} + \\left(- X(2) + X(5)\\right)^{2}}\\right) \\left(- X(1) + X(4)\\right)}{L_{0}^{2} \\sqrt{\\left(- X(0) + X(3)\\right)^{2} + \\left(- X(1) + X(4)\\right)^{2} + \\left(- X(2) + X(5)\\right)^{2}}}\\\\\\frac{\\left(- L_{0} + \\sqrt{\\left(- X(0) + X(3)\\right)^{2} + \\left(- X(1) + X(4)\\right)^{2} + \\left(- X(2) + X(5)\\right)^{2}}\\right) \\left(- X(2) + X(5)\\right)}{L_{0}^{2} \\sqrt{\\left(- X(0) + X(3)\\right)^{2} + \\left(- X(1) + X(4)\\right)^{2} + \\left(- X(2) + X(5)\\right)^{2}}}\\end{matrix}\\right]$"
      ],
      "text/plain": [
       "Matrix([\n",
       "[ (-L0 + sqrt((-X(0) + X(3))**2 + (-X(1) + X(4))**2 + (-X(2) + X(5))**2))*(X(0) - X(3))/(L0**2*sqrt((-X(0) + X(3))**2 + (-X(1) + X(4))**2 + (-X(2) + X(5))**2))],\n",
       "[ (-L0 + sqrt((-X(0) + X(3))**2 + (-X(1) + X(4))**2 + (-X(2) + X(5))**2))*(X(1) - X(4))/(L0**2*sqrt((-X(0) + X(3))**2 + (-X(1) + X(4))**2 + (-X(2) + X(5))**2))],\n",
       "[ (-L0 + sqrt((-X(0) + X(3))**2 + (-X(1) + X(4))**2 + (-X(2) + X(5))**2))*(X(2) - X(5))/(L0**2*sqrt((-X(0) + X(3))**2 + (-X(1) + X(4))**2 + (-X(2) + X(5))**2))],\n",
       "[(-L0 + sqrt((-X(0) + X(3))**2 + (-X(1) + X(4))**2 + (-X(2) + X(5))**2))*(-X(0) + X(3))/(L0**2*sqrt((-X(0) + X(3))**2 + (-X(1) + X(4))**2 + (-X(2) + X(5))**2))],\n",
       "[(-L0 + sqrt((-X(0) + X(3))**2 + (-X(1) + X(4))**2 + (-X(2) + X(5))**2))*(-X(1) + X(4))/(L0**2*sqrt((-X(0) + X(3))**2 + (-X(1) + X(4))**2 + (-X(2) + X(5))**2))],\n",
       "[(-L0 + sqrt((-X(0) + X(3))**2 + (-X(1) + X(4))**2 + (-X(2) + X(5))**2))*(-X(2) + X(5))/(L0**2*sqrt((-X(0) + X(3))**2 + (-X(1) + X(4))**2 + (-X(2) + X(5))**2))]])"
      ]
     },
     "execution_count": 5,
     "metadata": {},
     "output_type": "execute_result"
    }
   ],
   "source": [
    "pGpk = VecDiff(dEdX, k)\n",
    "pGpk"
   ]
  },
  {
   "cell_type": "code",
   "execution_count": 6,
   "metadata": {},
   "outputs": [],
   "source": [
    "Cl = Gen.Closure(k, X, L0)"
   ]
  },
  {
   "cell_type": "code",
   "execution_count": 7,
   "metadata": {},
   "outputs": [
    {
     "name": "stdout",
     "output_type": "stream",
     "text": [
      "\n",
      "template <typename T>\n",
      "__host__ __device__ void E(T& R, const T& k, const Eigen::Vector<T,6>& X, const T& L0)\n",
      "{\n",
      "/*****************************************************************************************************************************\n",
      "Function generated by SymEigen.py \n",
      "Author: MuGdxy\n",
      "GitHub: https://github.com/MuGdxy/SymEigen\n",
      "E-Mail: lxy819469559@gmail.com\n",
      "******************************************************************************************************************************\n",
      "Symbol Name Mapping:\n",
      "k:\n",
      "    -> {}\n",
      "    -> Matrix([[k]])\n",
      "X:\n",
      "    -> {}\n",
      "    -> Matrix([[X(0)], [X(1)], [X(2)], [X(3)], [X(4)], [X(5)]])\n",
      "L0:\n",
      "    -> {}\n",
      "    -> Matrix([[L0]])\n",
      "*****************************************************************************************************************************/\n",
      "/* Sub Exprs */\n",
      "/* Simplified Expr */\n",
      "R = (1.0/2.0)*k*std::pow(-L0 + std::pow(std::pow(-X(0) + X(3), 2) + std::pow(-X(1) + X(4), 2) + std::pow(-X(2) + X(5), 2), 1.0/2.0), 2)/std::pow(L0, 2);\n",
      "}\n",
      "template <typename T>\n",
      "__host__ __device__ void dEdX(Eigen::Vector<T,6>& R, const T& k, const Eigen::Vector<T,6>& X, const T& L0)\n",
      "{\n",
      "/*****************************************************************************************************************************\n",
      "Function generated by SymEigen.py \n",
      "Author: MuGdxy\n",
      "GitHub: https://github.com/MuGdxy/SymEigen\n",
      "E-Mail: lxy819469559@gmail.com\n",
      "******************************************************************************************************************************\n",
      "Symbol Name Mapping:\n",
      "k:\n",
      "    -> {}\n",
      "    -> Matrix([[k]])\n",
      "X:\n",
      "    -> {}\n",
      "    -> Matrix([[X(0)], [X(1)], [X(2)], [X(3)], [X(4)], [X(5)]])\n",
      "L0:\n",
      "    -> {}\n",
      "    -> Matrix([[L0]])\n",
      "*****************************************************************************************************************************/\n",
      "/* Sub Exprs */\n",
      "auto x0 = X(0) - X(3);\n",
      "auto x1 = -x0;\n",
      "auto x2 = X(1) - X(4);\n",
      "auto x3 = -x2;\n",
      "auto x4 = X(2) - X(5);\n",
      "auto x5 = -x4;\n",
      "auto x6 = std::pow(std::pow(x1, 2) + std::pow(x3, 2) + std::pow(x5, 2), 1.0/2.0);\n",
      "auto x7 = k*(-L0 + x6)/(std::pow(L0, 2)*x6);\n",
      "/* Simplified Expr */\n",
      "R(0) = x0*x7;\n",
      "R(1) = x2*x7;\n",
      "R(2) = x4*x7;\n",
      "R(3) = x1*x7;\n",
      "R(4) = x3*x7;\n",
      "R(5) = x5*x7;\n",
      "}\n",
      "template <typename T>\n",
      "__host__ __device__ void ddEddX(Eigen::Matrix<T,6,6>& R, const T& k, const Eigen::Vector<T,6>& X, const T& L0)\n",
      "{\n",
      "/*****************************************************************************************************************************\n",
      "Function generated by SymEigen.py \n",
      "Author: MuGdxy\n",
      "GitHub: https://github.com/MuGdxy/SymEigen\n",
      "E-Mail: lxy819469559@gmail.com\n",
      "******************************************************************************************************************************\n",
      "Symbol Name Mapping:\n",
      "k:\n",
      "    -> {}\n",
      "    -> Matrix([[k]])\n",
      "X:\n",
      "    -> {}\n",
      "    -> Matrix([[X(0)], [X(1)], [X(2)], [X(3)], [X(4)], [X(5)]])\n",
      "L0:\n",
      "    -> {}\n",
      "    -> Matrix([[L0]])\n",
      "*****************************************************************************************************************************/\n",
      "/* Sub Exprs */\n",
      "auto x0 = X(0) - X(3);\n",
      "auto x1 = std::pow(x0, 2);\n",
      "auto x2 = -x0;\n",
      "auto x3 = std::pow(x2, 2);\n",
      "auto x4 = X(1) - X(4);\n",
      "auto x5 = -x4;\n",
      "auto x6 = std::pow(x5, 2);\n",
      "auto x7 = X(2) - X(5);\n",
      "auto x8 = -x7;\n",
      "auto x9 = std::pow(x8, 2);\n",
      "auto x10 = x3 + x6 + x9;\n",
      "auto x11 = k/std::pow(L0, 2);\n",
      "auto x12 = x11/x10;\n",
      "auto x13 = std::pow(x10, 1.0/2.0);\n",
      "auto x14 = x11*(-L0 + x13);\n",
      "auto x15 = x14/x13;\n",
      "auto x16 = x14/std::pow(x10, 3.0/2.0);\n",
      "auto x17 = x0*x16;\n",
      "auto x18 = x15 + x17*x2;\n",
      "auto x19 = x0*x12;\n",
      "auto x20 = x19*x4;\n",
      "auto x21 = x17*x5;\n",
      "auto x22 = x19*x7;\n",
      "auto x23 = x17*x8;\n",
      "auto x24 = -x15;\n",
      "auto x25 = x19*x2 + x24;\n",
      "auto x26 = x19*x5;\n",
      "auto x27 = x17*x4;\n",
      "auto x28 = x19*x8;\n",
      "auto x29 = x17*x7;\n",
      "auto x30 = x16*x4;\n",
      "auto x31 = x2*x30;\n",
      "auto x32 = std::pow(x4, 2);\n",
      "auto x33 = x15 + x30*x5;\n",
      "auto x34 = x12*x4;\n",
      "auto x35 = x34*x7;\n",
      "auto x36 = x30*x8;\n",
      "auto x37 = x2*x34;\n",
      "auto x38 = x24 + x34*x5;\n",
      "auto x39 = x34*x8;\n",
      "auto x40 = x30*x7;\n",
      "auto x41 = x16*x7;\n",
      "auto x42 = x2*x41;\n",
      "auto x43 = x41*x5;\n",
      "auto x44 = std::pow(x7, 2);\n",
      "auto x45 = x15 + x41*x8;\n",
      "auto x46 = x12*x7;\n",
      "auto x47 = x2*x46;\n",
      "auto x48 = x46*x5;\n",
      "auto x49 = x24 + x46*x8;\n",
      "auto x50 = x16*x2;\n",
      "auto x51 = x5*x50;\n",
      "auto x52 = x50*x8;\n",
      "auto x53 = x12*x2;\n",
      "auto x54 = x5*x53;\n",
      "auto x55 = x53*x8;\n",
      "auto x56 = x5*x8;\n",
      "auto x57 = x16*x56;\n",
      "auto x58 = x12*x56;\n",
      "/* Simplified Expr */\n",
      "R(0,0) = x1*x12 + x18;\n",
      "R(0,1) = x20 + x21;\n",
      "R(0,2) = x22 + x23;\n",
      "R(0,3) = x1*x16 + x25;\n",
      "R(0,4) = x26 + x27;\n",
      "R(0,5) = x28 + x29;\n",
      "R(1,0) = x20 + x31;\n",
      "R(1,1) = x12*x32 + x33;\n",
      "R(1,2) = x35 + x36;\n",
      "R(1,3) = x27 + x37;\n",
      "R(1,4) = x16*x32 + x38;\n",
      "R(1,5) = x39 + x40;\n",
      "R(2,0) = x22 + x42;\n",
      "R(2,1) = x35 + x43;\n",
      "R(2,2) = x12*x44 + x45;\n",
      "R(2,3) = x29 + x47;\n",
      "R(2,4) = x40 + x48;\n",
      "R(2,5) = x16*x44 + x49;\n",
      "R(3,0) = x16*x3 + x25;\n",
      "R(3,1) = x37 + x51;\n",
      "R(3,2) = x47 + x52;\n",
      "R(3,3) = x12*x3 + x18;\n",
      "R(3,4) = x31 + x54;\n",
      "R(3,5) = x42 + x55;\n",
      "R(4,0) = x26 + x51;\n",
      "R(4,1) = x16*x6 + x38;\n",
      "R(4,2) = x48 + x57;\n",
      "R(4,3) = x21 + x54;\n",
      "R(4,4) = x12*x6 + x33;\n",
      "R(4,5) = x43 + x58;\n",
      "R(5,0) = x28 + x52;\n",
      "R(5,1) = x39 + x57;\n",
      "R(5,2) = x16*x9 + x49;\n",
      "R(5,3) = x23 + x55;\n",
      "R(5,4) = x36 + x58;\n",
      "R(5,5) = x12*x9 + x45;\n",
      "}\n",
      "\n"
     ]
    }
   ],
   "source": [
    "s = f'''\n",
    "{Cl(\"E\",E)}\n",
    "{Cl(\"dEdX\",dEdX)}\n",
    "{Cl(\"ddEddX\",ddEddX)}\n",
    "{Cl(\"pGpk\",pGpk)}\n",
    "'''\n",
    "print(s)\n",
    "\n",
    "f = open( backend_source_dir('cuda') / 'finite_element/constitutions/sym/hookean_spring_1d.inl', 'w')\n",
    "f.write(s)\n",
    "f.close()"
   ]
  }
 ],
 "metadata": {
  "kernelspec": {
   "display_name": "Python 3",
   "language": "python",
   "name": "python3"
  },
  "language_info": {
   "codemirror_mode": {
    "name": "ipython",
    "version": 3
   },
   "file_extension": ".py",
   "mimetype": "text/x-python",
   "name": "python",
   "nbconvert_exporter": "python",
   "pygments_lexer": "ipython3",
   "version": "3.11.5"
  },
  "orig_nbformat": 4
 },
 "nbformat": 4,
 "nbformat_minor": 2
}
