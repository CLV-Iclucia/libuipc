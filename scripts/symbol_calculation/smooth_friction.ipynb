{
 "cells": [
  {
   "cell_type": "code",
   "execution_count": null,
   "metadata": {},
   "outputs": [],
   "source": [
    "import sys\n",
    "import os\n",
    "sys.path.append('../')\n",
    "import pathlib as pl\n",
    "from SymEigen import *\n",
    "from sympy import symbols\n",
    "from sympy import Heaviside, nan\n",
    "from sympy import sqrt\n",
    "from sympy import integrate\n",
    "from sympy import DiracDelta\n",
    "from project_dir import project_dir\n",
    "\n",
    "Gen = EigenFunctionGenerator()\n",
    "Gen.MacroBeforeFunction(\"__host__ __device__\")\n"
   ]
  },
  {
   "cell_type": "code",
   "execution_count": null,
   "metadata": {},
   "outputs": [],
   "source": [
    "mu, lmbd, y, eps_x = symbols('mu lambda y epsilon_x')"
   ]
  },
  {
   "cell_type": "code",
   "execution_count": null,
   "metadata": {},
   "outputs": [],
   "source": [
    "f0 = - y**3/(3*eps_x**2) + y**2/eps_x + 1/(3*eps_x) # y < eps_x\n",
    "f0_ = y # y >= eps_x\n",
    "f0"
   ]
  },
  {
   "cell_type": "code",
   "execution_count": null,
   "metadata": {},
   "outputs": [],
   "source": [
    "df0dy = f0.diff(y)\n",
    "df0dy"
   ]
  },
  {
   "cell_type": "code",
   "execution_count": null,
   "metadata": {},
   "outputs": [],
   "source": [
    "(df0dy / y).simplify()"
   ]
  },
  {
   "cell_type": "code",
   "execution_count": null,
   "metadata": {},
   "outputs": [],
   "source": [
    "ddf0ddy = df0dy.diff(y)\n",
    "ddf0ddy"
   ]
  }
 ],
 "metadata": {
  "kernelspec": {
   "display_name": "Python 3",
   "language": "python",
   "name": "python3"
  },
  "language_info": {
   "codemirror_mode": {
    "name": "ipython",
    "version": 3
   },
   "file_extension": ".py",
   "mimetype": "text/x-python",
   "name": "python",
   "nbconvert_exporter": "python",
   "pygments_lexer": "ipython3",
   "version": "3.11.5"
  },
  "orig_nbformat": 4
 },
 "nbformat": 4,
 "nbformat_minor": 2
}
