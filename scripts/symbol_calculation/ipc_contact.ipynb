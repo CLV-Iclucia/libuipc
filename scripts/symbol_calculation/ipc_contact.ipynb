{
 "cells": [
  {
   "cell_type": "code",
   "execution_count": null,
   "metadata": {},
   "outputs": [],
   "source": [
    "import sys\n",
    "import os\n",
    "sys.path.append('../')\n",
    "import pathlib as pl\n",
    "from SymEigen import *\n",
    "from sympy import symbols\n",
    "from project_dir import project_dir\n",
    "\n",
    "Gen = EigenFunctionGenerator()\n",
    "Gen.MacroBeforeFunction(\"__host__ __device__\")"
   ]
  },
  {
   "cell_type": "code",
   "execution_count": null,
   "metadata": {},
   "outputs": [],
   "source": [
    "D, DHat, kappa = symbols('D DHat kappa')\n",
    "Cl = Gen.Closure(kappa, D, DHat)\n",
    "\n",
    "kB = - kappa * (D - DHat) * (D - DHat) * log(D / DHat)\n",
    "kB"
   ]
  },
  {
   "cell_type": "code",
   "execution_count": null,
   "metadata": {},
   "outputs": [],
   "source": [
    "dkBdd = kB.diff(D)\n",
    "dkBdd"
   ]
  },
  {
   "cell_type": "code",
   "execution_count": null,
   "metadata": {},
   "outputs": [],
   "source": [
    "ddkBddd = dkBdd.diff(D)\n",
    "ddkBddd\n",
    "\n"
   ]
  },
  {
   "cell_type": "code",
   "execution_count": null,
   "metadata": {},
   "outputs": [],
   "source": [
    "s = f'''\n",
    "// > Squared Version\n",
    "// > D := d*d \n",
    "// > DHat := dHat*dHat\n",
    "\n",
    "{Cl(\"KappaBarrier\",kB)}\n",
    "{Cl(\"dKappaBarrierdD\",dkBdd)}\n",
    "{Cl(\"ddKappaBarrierddD\",ddkBddd)}\n",
    "'''\n",
    "print(s)\n",
    "\n",
    "f = open( project_dir() / 'src/uipc/backends/cuda/contact_system/contact_models/sym/ipc_contact.inl', 'w')\n",
    "f.write(s)\n",
    "f.close()"
   ]
  }
 ],
 "metadata": {
  "kernelspec": {
   "display_name": "Python 3",
   "language": "python",
   "name": "python3"
  },
  "language_info": {
   "codemirror_mode": {
    "name": "ipython",
    "version": 3
   },
   "file_extension": ".py",
   "mimetype": "text/x-python",
   "name": "python",
   "nbconvert_exporter": "python",
   "pygments_lexer": "ipython3",
   "version": "3.11.5"
  },
  "orig_nbformat": 4
 },
 "nbformat": 4,
 "nbformat_minor": 2
}
